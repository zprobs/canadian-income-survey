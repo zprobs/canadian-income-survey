{
 "cells": [
  {
   "cell_type": "code",
   "execution_count": 106,
   "id": "b738d2dd",
   "metadata": {},
   "outputs": [],
   "source": [
    "import pandas as pd, numpy as np, matplotlib, matplotlib.pyplot as plt\n",
    "from statsmodels.stats.weightstats import DescrStatsW\n",
    "import seaborn as sns\n",
    "import math"
   ]
  },
  {
   "cell_type": "code",
   "execution_count": 2,
   "id": "c23470a9",
   "metadata": {},
   "outputs": [],
   "source": [
    "df = pd.read_csv('CIS-72M0003-E-2017_F1.csv')"
   ]
  },
  {
   "cell_type": "code",
   "execution_count": 3,
   "id": "fea64862",
   "metadata": {
    "scrolled": true
   },
   "outputs": [
    {
     "data": {
      "text/html": [
       "<div>\n",
       "<style scoped>\n",
       "    .dataframe tbody tr th:only-of-type {\n",
       "        vertical-align: middle;\n",
       "    }\n",
       "\n",
       "    .dataframe tbody tr th {\n",
       "        vertical-align: top;\n",
       "    }\n",
       "\n",
       "    .dataframe thead th {\n",
       "        text-align: right;\n",
       "    }\n",
       "</style>\n",
       "<table border=\"1\" class=\"dataframe\">\n",
       "  <thead>\n",
       "    <tr style=\"text-align: right;\">\n",
       "      <th></th>\n",
       "      <th>YEAR</th>\n",
       "      <th>PUMFID</th>\n",
       "      <th>PERSONID</th>\n",
       "      <th>FWEIGHT</th>\n",
       "      <th>PROV</th>\n",
       "      <th>USZGAP</th>\n",
       "      <th>MBMREGP</th>\n",
       "      <th>AGEGP</th>\n",
       "      <th>SEX</th>\n",
       "      <th>MARST</th>\n",
       "      <th>...</th>\n",
       "      <th>DWLTYP</th>\n",
       "      <th>DWTENR</th>\n",
       "      <th>REPA</th>\n",
       "      <th>SUIT</th>\n",
       "      <th>MORTG</th>\n",
       "      <th>MORTGM</th>\n",
       "      <th>CONDMP</th>\n",
       "      <th>RENTM</th>\n",
       "      <th>CHNEED</th>\n",
       "      <th>VERDATE</th>\n",
       "    </tr>\n",
       "  </thead>\n",
       "  <tbody>\n",
       "    <tr>\n",
       "      <th>0</th>\n",
       "      <td>2017</td>\n",
       "      <td>2129</td>\n",
       "      <td>212901</td>\n",
       "      <td>752.8642</td>\n",
       "      <td>24</td>\n",
       "      <td>8</td>\n",
       "      <td>18</td>\n",
       "      <td>4</td>\n",
       "      <td>2</td>\n",
       "      <td>6</td>\n",
       "      <td>...</td>\n",
       "      <td>1</td>\n",
       "      <td>1</td>\n",
       "      <td>3</td>\n",
       "      <td>1</td>\n",
       "      <td>2</td>\n",
       "      <td>99999996</td>\n",
       "      <td>99999996</td>\n",
       "      <td>99999996</td>\n",
       "      <td>2</td>\n",
       "      <td>02JUL2019</td>\n",
       "    </tr>\n",
       "    <tr>\n",
       "      <th>1</th>\n",
       "      <td>2017</td>\n",
       "      <td>2129</td>\n",
       "      <td>212902</td>\n",
       "      <td>752.8642</td>\n",
       "      <td>24</td>\n",
       "      <td>8</td>\n",
       "      <td>18</td>\n",
       "      <td>4</td>\n",
       "      <td>1</td>\n",
       "      <td>6</td>\n",
       "      <td>...</td>\n",
       "      <td>1</td>\n",
       "      <td>1</td>\n",
       "      <td>3</td>\n",
       "      <td>1</td>\n",
       "      <td>2</td>\n",
       "      <td>99999996</td>\n",
       "      <td>99999996</td>\n",
       "      <td>99999996</td>\n",
       "      <td>2</td>\n",
       "      <td>02JUL2019</td>\n",
       "    </tr>\n",
       "    <tr>\n",
       "      <th>2</th>\n",
       "      <td>2017</td>\n",
       "      <td>2129</td>\n",
       "      <td>212903</td>\n",
       "      <td>752.8642</td>\n",
       "      <td>24</td>\n",
       "      <td>8</td>\n",
       "      <td>18</td>\n",
       "      <td>10</td>\n",
       "      <td>2</td>\n",
       "      <td>2</td>\n",
       "      <td>...</td>\n",
       "      <td>1</td>\n",
       "      <td>1</td>\n",
       "      <td>3</td>\n",
       "      <td>1</td>\n",
       "      <td>2</td>\n",
       "      <td>99999996</td>\n",
       "      <td>99999996</td>\n",
       "      <td>99999996</td>\n",
       "      <td>2</td>\n",
       "      <td>02JUL2019</td>\n",
       "    </tr>\n",
       "    <tr>\n",
       "      <th>3</th>\n",
       "      <td>2017</td>\n",
       "      <td>2129</td>\n",
       "      <td>212904</td>\n",
       "      <td>752.8642</td>\n",
       "      <td>24</td>\n",
       "      <td>8</td>\n",
       "      <td>18</td>\n",
       "      <td>10</td>\n",
       "      <td>1</td>\n",
       "      <td>2</td>\n",
       "      <td>...</td>\n",
       "      <td>1</td>\n",
       "      <td>1</td>\n",
       "      <td>3</td>\n",
       "      <td>1</td>\n",
       "      <td>2</td>\n",
       "      <td>99999996</td>\n",
       "      <td>99999996</td>\n",
       "      <td>99999996</td>\n",
       "      <td>2</td>\n",
       "      <td>02JUL2019</td>\n",
       "    </tr>\n",
       "    <tr>\n",
       "      <th>4</th>\n",
       "      <td>2017</td>\n",
       "      <td>2130</td>\n",
       "      <td>213001</td>\n",
       "      <td>138.0238</td>\n",
       "      <td>12</td>\n",
       "      <td>5</td>\n",
       "      <td>7</td>\n",
       "      <td>16</td>\n",
       "      <td>1</td>\n",
       "      <td>1</td>\n",
       "      <td>...</td>\n",
       "      <td>1</td>\n",
       "      <td>1</td>\n",
       "      <td>2</td>\n",
       "      <td>1</td>\n",
       "      <td>2</td>\n",
       "      <td>99999996</td>\n",
       "      <td>99999996</td>\n",
       "      <td>99999996</td>\n",
       "      <td>6</td>\n",
       "      <td>02JUL2019</td>\n",
       "    </tr>\n",
       "  </tbody>\n",
       "</table>\n",
       "<p>5 rows × 194 columns</p>\n",
       "</div>"
      ],
      "text/plain": [
       "   YEAR  PUMFID  PERSONID   FWEIGHT  PROV  USZGAP  MBMREGP  AGEGP  SEX  MARST  \\\n",
       "0  2017    2129    212901  752.8642    24       8       18      4    2      6   \n",
       "1  2017    2129    212902  752.8642    24       8       18      4    1      6   \n",
       "2  2017    2129    212903  752.8642    24       8       18     10    2      2   \n",
       "3  2017    2129    212904  752.8642    24       8       18     10    1      2   \n",
       "4  2017    2130    213001  138.0238    12       5        7     16    1      1   \n",
       "\n",
       "   ...  DWLTYP  DWTENR  REPA  SUIT  MORTG    MORTGM    CONDMP     RENTM  \\\n",
       "0  ...       1       1     3     1      2  99999996  99999996  99999996   \n",
       "1  ...       1       1     3     1      2  99999996  99999996  99999996   \n",
       "2  ...       1       1     3     1      2  99999996  99999996  99999996   \n",
       "3  ...       1       1     3     1      2  99999996  99999996  99999996   \n",
       "4  ...       1       1     2     1      2  99999996  99999996  99999996   \n",
       "\n",
       "   CHNEED    VERDATE  \n",
       "0       2  02JUL2019  \n",
       "1       2  02JUL2019  \n",
       "2       2  02JUL2019  \n",
       "3       2  02JUL2019  \n",
       "4       6  02JUL2019  \n",
       "\n",
       "[5 rows x 194 columns]"
      ]
     },
     "execution_count": 3,
     "metadata": {},
     "output_type": "execute_result"
    }
   ],
   "source": [
    "df.head()"
   ]
  },
  {
   "cell_type": "code",
   "execution_count": 4,
   "id": "ae1eca7a",
   "metadata": {},
   "outputs": [],
   "source": [
    "# Remove invalid rows"
   ]
  },
  {
   "cell_type": "code",
   "execution_count": 5,
   "id": "25a4f66b",
   "metadata": {},
   "outputs": [],
   "source": [
    "df = df[df['MTINC'] < 99999996]"
   ]
  },
  {
   "cell_type": "code",
   "execution_count": 6,
   "id": "728f11cb",
   "metadata": {},
   "outputs": [],
   "source": [
    "df = df[df['WGSAL'] < 99999996]"
   ]
  },
  {
   "cell_type": "code",
   "execution_count": 7,
   "id": "9566426f",
   "metadata": {},
   "outputs": [],
   "source": [
    "df = df[df['SEMP'] < 99999996]"
   ]
  },
  {
   "cell_type": "code",
   "execution_count": 8,
   "id": "e35be04e",
   "metadata": {},
   "outputs": [
    {
     "data": {
      "text/html": [
       "<div>\n",
       "<style scoped>\n",
       "    .dataframe tbody tr th:only-of-type {\n",
       "        vertical-align: middle;\n",
       "    }\n",
       "\n",
       "    .dataframe tbody tr th {\n",
       "        vertical-align: top;\n",
       "    }\n",
       "\n",
       "    .dataframe thead th {\n",
       "        text-align: right;\n",
       "    }\n",
       "</style>\n",
       "<table border=\"1\" class=\"dataframe\">\n",
       "  <thead>\n",
       "    <tr style=\"text-align: right;\">\n",
       "      <th></th>\n",
       "      <th>SEMP</th>\n",
       "      <th>MTINC</th>\n",
       "      <th>WGSAL</th>\n",
       "    </tr>\n",
       "  </thead>\n",
       "  <tbody>\n",
       "    <tr>\n",
       "      <th>count</th>\n",
       "      <td>75372.00</td>\n",
       "      <td>75372.00</td>\n",
       "      <td>75372.00</td>\n",
       "    </tr>\n",
       "    <tr>\n",
       "      <th>mean</th>\n",
       "      <td>1665.73</td>\n",
       "      <td>40720.76</td>\n",
       "      <td>31230.96</td>\n",
       "    </tr>\n",
       "    <tr>\n",
       "      <th>std</th>\n",
       "      <td>11830.14</td>\n",
       "      <td>49814.94</td>\n",
       "      <td>45891.87</td>\n",
       "    </tr>\n",
       "    <tr>\n",
       "      <th>min</th>\n",
       "      <td>-62500.00</td>\n",
       "      <td>-62350.00</td>\n",
       "      <td>0.00</td>\n",
       "    </tr>\n",
       "    <tr>\n",
       "      <th>25%</th>\n",
       "      <td>0.00</td>\n",
       "      <td>6750.00</td>\n",
       "      <td>0.00</td>\n",
       "    </tr>\n",
       "    <tr>\n",
       "      <th>50%</th>\n",
       "      <td>0.00</td>\n",
       "      <td>29000.00</td>\n",
       "      <td>13500.00</td>\n",
       "    </tr>\n",
       "    <tr>\n",
       "      <th>75%</th>\n",
       "      <td>0.00</td>\n",
       "      <td>58075.00</td>\n",
       "      <td>50000.00</td>\n",
       "    </tr>\n",
       "    <tr>\n",
       "      <th>max</th>\n",
       "      <td>430000.00</td>\n",
       "      <td>1257400.00</td>\n",
       "      <td>975000.00</td>\n",
       "    </tr>\n",
       "  </tbody>\n",
       "</table>\n",
       "</div>"
      ],
      "text/plain": [
       "            SEMP       MTINC      WGSAL\n",
       "count   75372.00    75372.00   75372.00\n",
       "mean     1665.73    40720.76   31230.96\n",
       "std     11830.14    49814.94   45891.87\n",
       "min    -62500.00   -62350.00       0.00\n",
       "25%         0.00     6750.00       0.00\n",
       "50%         0.00    29000.00   13500.00\n",
       "75%         0.00    58075.00   50000.00\n",
       "max    430000.00  1257400.00  975000.00"
      ]
     },
     "execution_count": 8,
     "metadata": {},
     "output_type": "execute_result"
    }
   ],
   "source": [
    "df[['SEMP', 'MTINC', 'WGSAL']].describe().round(2)"
   ]
  },
  {
   "cell_type": "code",
   "execution_count": null,
   "id": "4fbcbd16",
   "metadata": {},
   "outputs": [],
   "source": [
    "# Calculate the weighted values"
   ]
  },
  {
   "cell_type": "code",
   "execution_count": 9,
   "id": "e4bbd422",
   "metadata": {},
   "outputs": [],
   "source": [
    "w_mtinc = DescrStatsW(df['MTINC'], weights=df['FWEIGHT']) "
   ]
  },
  {
   "cell_type": "code",
   "execution_count": 10,
   "id": "b6934c8c",
   "metadata": {},
   "outputs": [
    {
     "data": {
      "text/plain": [
       "39589.62542666547"
      ]
     },
     "execution_count": 10,
     "metadata": {},
     "output_type": "execute_result"
    }
   ],
   "source": [
    "w_mtinc.mean # Note that it is less than the unweighted mean"
   ]
  },
  {
   "cell_type": "code",
   "execution_count": 13,
   "id": "5289adaf",
   "metadata": {},
   "outputs": [],
   "source": [
    "# Compute the fraction of business income that should be considered labour income"
   ]
  },
  {
   "cell_type": "code",
   "execution_count": 14,
   "id": "9b035f2d",
   "metadata": {},
   "outputs": [],
   "source": [
    "w_wgsal = DescrStatsW(df['WGSAL'], weights=df['FWEIGHT']) "
   ]
  },
  {
   "cell_type": "code",
   "execution_count": 15,
   "id": "67e4c2f0",
   "metadata": {},
   "outputs": [],
   "source": [
    "w_semp = DescrStatsW(df['SEMP'], weights=df['FWEIGHT']) "
   ]
  },
  {
   "cell_type": "code",
   "execution_count": 16,
   "id": "1c999f9a",
   "metadata": {},
   "outputs": [],
   "source": [
    "bi_fraction = w_wgsal.sum / (w_mtinc.sum - w_semp.sum)"
   ]
  },
  {
   "cell_type": "code",
   "execution_count": 17,
   "id": "cd127ba8",
   "metadata": {},
   "outputs": [
    {
     "data": {
      "text/plain": [
       "0.805830435540061"
      ]
     },
     "execution_count": 17,
     "metadata": {},
     "output_type": "execute_result"
    }
   ],
   "source": [
    "bi_fraction"
   ]
  },
  {
   "cell_type": "code",
   "execution_count": 18,
   "id": "7e76bbb3",
   "metadata": {},
   "outputs": [],
   "source": [
    "# Create an earnings column"
   ]
  },
  {
   "cell_type": "code",
   "execution_count": 19,
   "id": "f3ff61cd",
   "metadata": {},
   "outputs": [],
   "source": [
    "df['EARNINGS'] = df['WGSAL'] + ( bi_fraction * df['SEMP'] )"
   ]
  },
  {
   "cell_type": "code",
   "execution_count": 20,
   "id": "9f0df5c5",
   "metadata": {},
   "outputs": [
    {
     "data": {
      "text/plain": [
       "count     75372.000000\n",
       "mean      32573.251836\n",
       "std       46150.774779\n",
       "min      -50364.402221\n",
       "25%           0.000000\n",
       "50%       16500.000000\n",
       "75%       50000.000000\n",
       "max      981849.558702\n",
       "Name: EARNINGS, dtype: float64"
      ]
     },
     "execution_count": 20,
     "metadata": {},
     "output_type": "execute_result"
    }
   ],
   "source": [
    "df['EARNINGS'].describe()"
   ]
  },
  {
   "cell_type": "code",
   "execution_count": 29,
   "id": "09a5e5f0",
   "metadata": {},
   "outputs": [],
   "source": [
    "w_earnings = DescrStatsW(df['EARNINGS'], weights=df['FWEIGHT']) "
   ]
  },
  {
   "cell_type": "code",
   "execution_count": 30,
   "id": "d23852ff",
   "metadata": {},
   "outputs": [
    {
     "data": {
      "text/plain": [
       "31902.52510043777"
      ]
     },
     "execution_count": 30,
     "metadata": {},
     "output_type": "execute_result"
    }
   ],
   "source": [
    "w_earnings.mean"
   ]
  },
  {
   "cell_type": "code",
   "execution_count": 21,
   "id": "6bad01fc",
   "metadata": {},
   "outputs": [],
   "source": [
    "# Create subset for Quebec (PROV = 24)"
   ]
  },
  {
   "cell_type": "code",
   "execution_count": 22,
   "id": "4f6153b5",
   "metadata": {},
   "outputs": [],
   "source": [
    "quebec_df = df[df['PROV'] == 24]"
   ]
  },
  {
   "cell_type": "code",
   "execution_count": 23,
   "id": "b6b6eaf4",
   "metadata": {},
   "outputs": [
    {
     "data": {
      "text/plain": [
       "13620"
      ]
     },
     "execution_count": 23,
     "metadata": {},
     "output_type": "execute_result"
    }
   ],
   "source": [
    "len(quebec_df)"
   ]
  },
  {
   "cell_type": "code",
   "execution_count": 24,
   "id": "39680cdf",
   "metadata": {},
   "outputs": [
    {
     "data": {
      "text/html": [
       "<div>\n",
       "<style scoped>\n",
       "    .dataframe tbody tr th:only-of-type {\n",
       "        vertical-align: middle;\n",
       "    }\n",
       "\n",
       "    .dataframe tbody tr th {\n",
       "        vertical-align: top;\n",
       "    }\n",
       "\n",
       "    .dataframe thead th {\n",
       "        text-align: right;\n",
       "    }\n",
       "</style>\n",
       "<table border=\"1\" class=\"dataframe\">\n",
       "  <thead>\n",
       "    <tr style=\"text-align: right;\">\n",
       "      <th></th>\n",
       "      <th>EARNINGS</th>\n",
       "      <th>MTINC</th>\n",
       "      <th>WGSAL</th>\n",
       "    </tr>\n",
       "  </thead>\n",
       "  <tbody>\n",
       "    <tr>\n",
       "      <th>count</th>\n",
       "      <td>13620.00</td>\n",
       "      <td>13620.00</td>\n",
       "      <td>13620.00</td>\n",
       "    </tr>\n",
       "    <tr>\n",
       "      <th>mean</th>\n",
       "      <td>28480.07</td>\n",
       "      <td>35823.52</td>\n",
       "      <td>27304.48</td>\n",
       "    </tr>\n",
       "    <tr>\n",
       "      <th>std</th>\n",
       "      <td>37047.91</td>\n",
       "      <td>39594.27</td>\n",
       "      <td>36416.28</td>\n",
       "    </tr>\n",
       "    <tr>\n",
       "      <th>min</th>\n",
       "      <td>-24955.74</td>\n",
       "      <td>-28000.00</td>\n",
       "      <td>0.00</td>\n",
       "    </tr>\n",
       "    <tr>\n",
       "      <th>25%</th>\n",
       "      <td>0.00</td>\n",
       "      <td>6250.00</td>\n",
       "      <td>0.00</td>\n",
       "    </tr>\n",
       "    <tr>\n",
       "      <th>50%</th>\n",
       "      <td>15000.00</td>\n",
       "      <td>27000.00</td>\n",
       "      <td>12500.00</td>\n",
       "    </tr>\n",
       "    <tr>\n",
       "      <th>75%</th>\n",
       "      <td>46000.00</td>\n",
       "      <td>52500.00</td>\n",
       "      <td>45000.00</td>\n",
       "    </tr>\n",
       "    <tr>\n",
       "      <th>max</th>\n",
       "      <td>470000.00</td>\n",
       "      <td>625000.00</td>\n",
       "      <td>470000.00</td>\n",
       "    </tr>\n",
       "  </tbody>\n",
       "</table>\n",
       "</div>"
      ],
      "text/plain": [
       "        EARNINGS      MTINC      WGSAL\n",
       "count   13620.00   13620.00   13620.00\n",
       "mean    28480.07   35823.52   27304.48\n",
       "std     37047.91   39594.27   36416.28\n",
       "min    -24955.74  -28000.00       0.00\n",
       "25%         0.00    6250.00       0.00\n",
       "50%     15000.00   27000.00   12500.00\n",
       "75%     46000.00   52500.00   45000.00\n",
       "max    470000.00  625000.00  470000.00"
      ]
     },
     "execution_count": 24,
     "metadata": {},
     "output_type": "execute_result"
    }
   ],
   "source": [
    "quebec_df[['EARNINGS', 'MTINC', 'WGSAL']].describe().round(2)"
   ]
  },
  {
   "cell_type": "code",
   "execution_count": 38,
   "id": "a946bd09",
   "metadata": {},
   "outputs": [
    {
     "name": "stdout",
     "output_type": "stream",
     "text": [
      "27662.680258110042\n",
      "34577.30652955231\n"
     ]
    }
   ],
   "source": [
    "w_quebec_earnings = DescrStatsW(quebec_df['EARNINGS'], weights=quebec_df['FWEIGHT'])\n",
    "w_quebec_mtinc = DescrStatsW(quebec_df['MTINC'], weights=quebec_df['FWEIGHT'])\n",
    "print(w_quebec_earnings.mean)\n",
    "print(w_quebec_mtinc.mean)"
   ]
  },
  {
   "cell_type": "code",
   "execution_count": 33,
   "id": "037cfe3d",
   "metadata": {},
   "outputs": [],
   "source": [
    "# Create subset for ages 25-55 (age groups 7-12)"
   ]
  },
  {
   "cell_type": "code",
   "execution_count": 34,
   "id": "c4b7b78b",
   "metadata": {},
   "outputs": [],
   "source": [
    "mid_df = df.loc[(pd.to_numeric(df['AGEGP']) > 6) & (pd.to_numeric(df['AGEGP']) < 13)]"
   ]
  },
  {
   "cell_type": "code",
   "execution_count": 35,
   "id": "a42a2606",
   "metadata": {},
   "outputs": [
    {
     "data": {
      "text/html": [
       "<div>\n",
       "<style scoped>\n",
       "    .dataframe tbody tr th:only-of-type {\n",
       "        vertical-align: middle;\n",
       "    }\n",
       "\n",
       "    .dataframe tbody tr th {\n",
       "        vertical-align: top;\n",
       "    }\n",
       "\n",
       "    .dataframe thead th {\n",
       "        text-align: right;\n",
       "    }\n",
       "</style>\n",
       "<table border=\"1\" class=\"dataframe\">\n",
       "  <thead>\n",
       "    <tr style=\"text-align: right;\">\n",
       "      <th></th>\n",
       "      <th>EARNINGS</th>\n",
       "      <th>MTINC</th>\n",
       "      <th>WGSAL</th>\n",
       "    </tr>\n",
       "  </thead>\n",
       "  <tbody>\n",
       "    <tr>\n",
       "      <th>count</th>\n",
       "      <td>34992.00</td>\n",
       "      <td>34992.00</td>\n",
       "      <td>34992.00</td>\n",
       "    </tr>\n",
       "    <tr>\n",
       "      <th>mean</th>\n",
       "      <td>48931.58</td>\n",
       "      <td>52460.53</td>\n",
       "      <td>47217.73</td>\n",
       "    </tr>\n",
       "    <tr>\n",
       "      <th>std</th>\n",
       "      <td>49208.69</td>\n",
       "      <td>52296.50</td>\n",
       "      <td>49472.60</td>\n",
       "    </tr>\n",
       "    <tr>\n",
       "      <th>min</th>\n",
       "      <td>-50364.40</td>\n",
       "      <td>-62350.00</td>\n",
       "      <td>0.00</td>\n",
       "    </tr>\n",
       "    <tr>\n",
       "      <th>25%</th>\n",
       "      <td>15000.00</td>\n",
       "      <td>18500.00</td>\n",
       "      <td>10500.00</td>\n",
       "    </tr>\n",
       "    <tr>\n",
       "      <th>50%</th>\n",
       "      <td>41000.00</td>\n",
       "      <td>43500.00</td>\n",
       "      <td>40000.00</td>\n",
       "    </tr>\n",
       "    <tr>\n",
       "      <th>75%</th>\n",
       "      <td>70000.00</td>\n",
       "      <td>73281.25</td>\n",
       "      <td>70000.00</td>\n",
       "    </tr>\n",
       "    <tr>\n",
       "      <th>max</th>\n",
       "      <td>975000.00</td>\n",
       "      <td>1257400.00</td>\n",
       "      <td>975000.00</td>\n",
       "    </tr>\n",
       "  </tbody>\n",
       "</table>\n",
       "</div>"
      ],
      "text/plain": [
       "        EARNINGS       MTINC      WGSAL\n",
       "count   34992.00    34992.00   34992.00\n",
       "mean    48931.58    52460.53   47217.73\n",
       "std     49208.69    52296.50   49472.60\n",
       "min    -50364.40   -62350.00       0.00\n",
       "25%     15000.00    18500.00   10500.00\n",
       "50%     41000.00    43500.00   40000.00\n",
       "75%     70000.00    73281.25   70000.00\n",
       "max    975000.00  1257400.00  975000.00"
      ]
     },
     "execution_count": 35,
     "metadata": {},
     "output_type": "execute_result"
    }
   ],
   "source": [
    "mid_df[['EARNINGS', 'MTINC', 'WGSAL']].describe().round(2)"
   ]
  },
  {
   "cell_type": "code",
   "execution_count": 37,
   "id": "9c0644ed",
   "metadata": {},
   "outputs": [
    {
     "name": "stdout",
     "output_type": "stream",
     "text": [
      "46513.85282613269\n",
      "49961.21050870748\n"
     ]
    }
   ],
   "source": [
    "w_mid_earnings = DescrStatsW(mid_df['EARNINGS'], weights=mid_df['FWEIGHT'])\n",
    "w_mid_mtinc = DescrStatsW(mid_df['MTINC'], weights=mid_df['FWEIGHT'])\n",
    "print(w_mid_earnings.mean)\n",
    "print(w_mid_mtinc.mean)"
   ]
  },
  {
   "cell_type": "code",
   "execution_count": 40,
   "id": "8b83c7e2",
   "metadata": {},
   "outputs": [],
   "source": [
    "# Show weighted earnings and income distribution by quantiles"
   ]
  },
  {
   "cell_type": "code",
   "execution_count": 41,
   "id": "f9dc2bef",
   "metadata": {},
   "outputs": [],
   "source": [
    "quantiles = [0, .01, .05, .1, .2, .4, .6, .8, .9, .95, .99, 1]"
   ]
  },
  {
   "cell_type": "code",
   "execution_count": 42,
   "id": "1878b9a8",
   "metadata": {},
   "outputs": [
    {
     "data": {
      "text/plain": [
       "p\n",
       "0.00    -50364.402221\n",
       "0.01         0.000000\n",
       "0.05         0.000000\n",
       "0.10         0.000000\n",
       "0.20         0.000000\n",
       "0.40      6000.000000\n",
       "0.60     27000.000000\n",
       "0.80     57500.000000\n",
       "0.90     85000.000000\n",
       "0.95    110000.000000\n",
       "0.99    190000.000000\n",
       "1.00    981849.558702\n",
       "dtype: float64"
      ]
     },
     "execution_count": 42,
     "metadata": {},
     "output_type": "execute_result"
    }
   ],
   "source": [
    "w_earnings.quantile(quantiles)"
   ]
  },
  {
   "cell_type": "code",
   "execution_count": 44,
   "id": "778fb560",
   "metadata": {},
   "outputs": [],
   "source": [
    "quant_df = pd.DataFrame(w_earnings.quantile(quantiles)).transpose()"
   ]
  },
  {
   "cell_type": "code",
   "execution_count": 48,
   "id": "c590c78b",
   "metadata": {},
   "outputs": [
    {
     "data": {
      "text/html": [
       "<div>\n",
       "<style scoped>\n",
       "    .dataframe tbody tr th:only-of-type {\n",
       "        vertical-align: middle;\n",
       "    }\n",
       "\n",
       "    .dataframe tbody tr th {\n",
       "        vertical-align: top;\n",
       "    }\n",
       "\n",
       "    .dataframe thead th {\n",
       "        text-align: right;\n",
       "    }\n",
       "</style>\n",
       "<table border=\"1\" class=\"dataframe\">\n",
       "  <thead>\n",
       "    <tr style=\"text-align: right;\">\n",
       "      <th>p</th>\n",
       "      <th>0.00</th>\n",
       "      <th>0.01</th>\n",
       "      <th>0.05</th>\n",
       "      <th>0.10</th>\n",
       "      <th>0.20</th>\n",
       "      <th>0.40</th>\n",
       "      <th>0.60</th>\n",
       "      <th>0.80</th>\n",
       "      <th>0.90</th>\n",
       "      <th>0.95</th>\n",
       "      <th>0.99</th>\n",
       "      <th>1.00</th>\n",
       "    </tr>\n",
       "  </thead>\n",
       "  <tbody>\n",
       "    <tr>\n",
       "      <th>EARNINGS</th>\n",
       "      <td>-50364.4</td>\n",
       "      <td>0.0</td>\n",
       "      <td>0.0</td>\n",
       "      <td>0.0</td>\n",
       "      <td>0.0</td>\n",
       "      <td>6000.0</td>\n",
       "      <td>27000.0</td>\n",
       "      <td>57500.0</td>\n",
       "      <td>85000.0</td>\n",
       "      <td>110000.0</td>\n",
       "      <td>190000.0</td>\n",
       "      <td>981849.56</td>\n",
       "    </tr>\n",
       "    <tr>\n",
       "      <th>MTINC</th>\n",
       "      <td>-62350.0</td>\n",
       "      <td>0.0</td>\n",
       "      <td>0.0</td>\n",
       "      <td>0.0</td>\n",
       "      <td>2725.0</td>\n",
       "      <td>17000.0</td>\n",
       "      <td>37000.0</td>\n",
       "      <td>65000.0</td>\n",
       "      <td>92500.0</td>\n",
       "      <td>120000.0</td>\n",
       "      <td>222500.0</td>\n",
       "      <td>1257400.00</td>\n",
       "    </tr>\n",
       "  </tbody>\n",
       "</table>\n",
       "</div>"
      ],
      "text/plain": [
       "p            0.00  0.01  0.05  0.10    0.20     0.40     0.60     0.80  \\\n",
       "EARNINGS -50364.4   0.0   0.0   0.0     0.0   6000.0  27000.0  57500.0   \n",
       "MTINC    -62350.0   0.0   0.0   0.0  2725.0  17000.0  37000.0  65000.0   \n",
       "\n",
       "p            0.90      0.95      0.99        1.00  \n",
       "EARNINGS  85000.0  110000.0  190000.0   981849.56  \n",
       "MTINC     92500.0  120000.0  222500.0  1257400.00  "
      ]
     },
     "execution_count": 48,
     "metadata": {},
     "output_type": "execute_result"
    }
   ],
   "source": [
    "quant_df.append(w_mtinc.quantile(quantiles), ignore_index=True).rename(index={0: 'EARNINGS', 1: 'MTINC'}).round(2)"
   ]
  },
  {
   "cell_type": "code",
   "execution_count": 50,
   "id": "d5bec33c",
   "metadata": {},
   "outputs": [],
   "source": [
    "qc_quant_df = pd.DataFrame(w_quebec_earnings.quantile(quantiles)).transpose()"
   ]
  },
  {
   "cell_type": "code",
   "execution_count": 51,
   "id": "f1d12cd6",
   "metadata": {},
   "outputs": [
    {
     "data": {
      "text/html": [
       "<div>\n",
       "<style scoped>\n",
       "    .dataframe tbody tr th:only-of-type {\n",
       "        vertical-align: middle;\n",
       "    }\n",
       "\n",
       "    .dataframe tbody tr th {\n",
       "        vertical-align: top;\n",
       "    }\n",
       "\n",
       "    .dataframe thead th {\n",
       "        text-align: right;\n",
       "    }\n",
       "</style>\n",
       "<table border=\"1\" class=\"dataframe\">\n",
       "  <thead>\n",
       "    <tr style=\"text-align: right;\">\n",
       "      <th>p</th>\n",
       "      <th>0.00</th>\n",
       "      <th>0.01</th>\n",
       "      <th>0.05</th>\n",
       "      <th>0.10</th>\n",
       "      <th>0.20</th>\n",
       "      <th>0.40</th>\n",
       "      <th>0.60</th>\n",
       "      <th>0.80</th>\n",
       "      <th>0.90</th>\n",
       "      <th>0.95</th>\n",
       "      <th>0.99</th>\n",
       "      <th>1.00</th>\n",
       "    </tr>\n",
       "  </thead>\n",
       "  <tbody>\n",
       "    <tr>\n",
       "      <th>EARNINGS</th>\n",
       "      <td>-24955.74</td>\n",
       "      <td>0.0</td>\n",
       "      <td>0.0</td>\n",
       "      <td>0.0</td>\n",
       "      <td>0.0</td>\n",
       "      <td>4400.0</td>\n",
       "      <td>25000.0</td>\n",
       "      <td>52500.0</td>\n",
       "      <td>75000.0</td>\n",
       "      <td>95000.0</td>\n",
       "      <td>155000.0</td>\n",
       "      <td>470000.0</td>\n",
       "    </tr>\n",
       "    <tr>\n",
       "      <th>MTINC</th>\n",
       "      <td>-28000.00</td>\n",
       "      <td>0.0</td>\n",
       "      <td>0.0</td>\n",
       "      <td>0.0</td>\n",
       "      <td>2100.0</td>\n",
       "      <td>16250.0</td>\n",
       "      <td>33500.0</td>\n",
       "      <td>57500.0</td>\n",
       "      <td>80000.0</td>\n",
       "      <td>101900.0</td>\n",
       "      <td>185000.0</td>\n",
       "      <td>625000.0</td>\n",
       "    </tr>\n",
       "  </tbody>\n",
       "</table>\n",
       "</div>"
      ],
      "text/plain": [
       "p             0.00  0.01  0.05  0.10    0.20     0.40     0.60     0.80  \\\n",
       "EARNINGS -24955.74   0.0   0.0   0.0     0.0   4400.0  25000.0  52500.0   \n",
       "MTINC    -28000.00   0.0   0.0   0.0  2100.0  16250.0  33500.0  57500.0   \n",
       "\n",
       "p            0.90      0.95      0.99      1.00  \n",
       "EARNINGS  75000.0   95000.0  155000.0  470000.0  \n",
       "MTINC     80000.0  101900.0  185000.0  625000.0  "
      ]
     },
     "execution_count": 51,
     "metadata": {},
     "output_type": "execute_result"
    }
   ],
   "source": [
    "qc_quant_df.append(w_quebec_mtinc.quantile(quantiles), ignore_index=True).rename(index={0: 'EARNINGS', 1: 'MTINC'}).round(2)"
   ]
  },
  {
   "cell_type": "code",
   "execution_count": 52,
   "id": "a8afb36e",
   "metadata": {},
   "outputs": [],
   "source": [
    "mid_quant_df = pd.DataFrame(w_mid_earnings.quantile(quantiles)).transpose()"
   ]
  },
  {
   "cell_type": "code",
   "execution_count": 54,
   "id": "0af0830f",
   "metadata": {},
   "outputs": [
    {
     "data": {
      "text/html": [
       "<div>\n",
       "<style scoped>\n",
       "    .dataframe tbody tr th:only-of-type {\n",
       "        vertical-align: middle;\n",
       "    }\n",
       "\n",
       "    .dataframe tbody tr th {\n",
       "        vertical-align: top;\n",
       "    }\n",
       "\n",
       "    .dataframe thead th {\n",
       "        text-align: right;\n",
       "    }\n",
       "</style>\n",
       "<table border=\"1\" class=\"dataframe\">\n",
       "  <thead>\n",
       "    <tr style=\"text-align: right;\">\n",
       "      <th>p</th>\n",
       "      <th>0.00</th>\n",
       "      <th>0.01</th>\n",
       "      <th>0.05</th>\n",
       "      <th>0.10</th>\n",
       "      <th>0.20</th>\n",
       "      <th>0.40</th>\n",
       "      <th>0.60</th>\n",
       "      <th>0.80</th>\n",
       "      <th>0.90</th>\n",
       "      <th>0.95</th>\n",
       "      <th>0.99</th>\n",
       "      <th>1.00</th>\n",
       "    </tr>\n",
       "  </thead>\n",
       "  <tbody>\n",
       "    <tr>\n",
       "      <th>EARNINGS</th>\n",
       "      <td>-50364.4</td>\n",
       "      <td>0.0</td>\n",
       "      <td>0.0</td>\n",
       "      <td>0.0</td>\n",
       "      <td>6000.0</td>\n",
       "      <td>27000.0</td>\n",
       "      <td>47000.0</td>\n",
       "      <td>75000.0</td>\n",
       "      <td>97500.0</td>\n",
       "      <td>125000.0</td>\n",
       "      <td>220000.0</td>\n",
       "      <td>975000.0</td>\n",
       "    </tr>\n",
       "    <tr>\n",
       "      <th>MTINC</th>\n",
       "      <td>-62350.0</td>\n",
       "      <td>0.0</td>\n",
       "      <td>0.0</td>\n",
       "      <td>0.0</td>\n",
       "      <td>9525.0</td>\n",
       "      <td>30000.0</td>\n",
       "      <td>50000.0</td>\n",
       "      <td>78425.0</td>\n",
       "      <td>102725.0</td>\n",
       "      <td>130300.0</td>\n",
       "      <td>231975.0</td>\n",
       "      <td>1257400.0</td>\n",
       "    </tr>\n",
       "  </tbody>\n",
       "</table>\n",
       "</div>"
      ],
      "text/plain": [
       "p            0.00  0.01  0.05  0.10    0.20     0.40     0.60     0.80  \\\n",
       "EARNINGS -50364.4   0.0   0.0   0.0  6000.0  27000.0  47000.0  75000.0   \n",
       "MTINC    -62350.0   0.0   0.0   0.0  9525.0  30000.0  50000.0  78425.0   \n",
       "\n",
       "p             0.90      0.95      0.99       1.00  \n",
       "EARNINGS   97500.0  125000.0  220000.0   975000.0  \n",
       "MTINC     102725.0  130300.0  231975.0  1257400.0  "
      ]
     },
     "execution_count": 54,
     "metadata": {},
     "output_type": "execute_result"
    }
   ],
   "source": [
    "mid_quant_df.append(w_mid_mtinc.quantile(quantiles), ignore_index=True).rename(index={0: 'EARNINGS', 1: 'MTINC'}).round(2)"
   ]
  },
  {
   "cell_type": "code",
   "execution_count": 82,
   "id": "8473ecc0",
   "metadata": {},
   "outputs": [],
   "source": [
    "# Plot a histogram of income distribution"
   ]
  },
  {
   "cell_type": "code",
   "execution_count": 101,
   "id": "9a2489b1",
   "metadata": {},
   "outputs": [
    {
     "data": {
      "image/png": "[encoded data removed]",
      "text/plain": [
       "<Figure size 1008x504 with 1 Axes>"
      ]
     },
     "metadata": {},
     "output_type": "display_data"
    }
   ],
   "source": [
    "plt.figure(figsize=(14,7))\n",
    "\n",
    "# Cut off the tail of distribution to visualize easier\n",
    "tail = df[df['MTINC'] <= 185000]\n",
    "w_tail = DescrStatsW(tail['MTINC'], weights=tail['FWEIGHT'])\n",
    "\n",
    "plt.hist(w_tail.asrepeats(), density=True, bins=140, facecolor = '#2ab0ff', edgecolor='#169acf', linewidth=0.5)\n",
    "plt.title('Histogram of the 2017 Income Distribution in Canada') \n",
    "plt.xlabel('Income') \n",
    "plt.ylabel('%')\n",
    "plt.savefig('income_hist.png')\n",
    "plt.show()"
   ]
  },
  {
   "cell_type": "code",
   "execution_count": 58,
   "id": "5a6ff157",
   "metadata": {},
   "outputs": [],
   "source": [
    "# Let's plot with kernal density using Seaborn"
   ]
  },
  {
   "cell_type": "code",
   "execution_count": 74,
   "id": "6d9f8f06",
   "metadata": {},
   "outputs": [],
   "source": [
    "sns.set(rc={'figure.figsize':(12,6)})"
   ]
  },
  {
   "cell_type": "code",
   "execution_count": 87,
   "id": "1790e056",
   "metadata": {},
   "outputs": [
    {
     "data": {
      "image/png": "[encoded data removed]",
      "text/plain": [
       "<Figure size 864x432 with 1 Axes>"
      ]
     },
     "metadata": {},
     "output_type": "display_data"
    }
   ],
   "source": [
    "ax = sns.histplot(w_tail.asrepeats(), kde=True, bins=140, color = '#2ab0ff')\n",
    "ax.set(xlabel='Income', ylabel='%', title='Histogram of the 2017 Income Distribution in Canada')\n",
    "fig = ax.get_figure()\n",
    "fig.savefig(\"kd_hist.png\")"
   ]
  },
  {
   "cell_type": "code",
   "execution_count": 103,
   "id": "81a2c20e",
   "metadata": {},
   "outputs": [],
   "source": [
    "# Calculate the coefficient of variation for income and earnings"
   ]
  },
  {
   "cell_type": "code",
   "execution_count": 103,
   "id": "9d7473c4",
   "metadata": {},
   "outputs": [
    {
     "name": "stdout",
     "output_type": "stream",
     "text": [
      "1.3051621810879537\n"
     ]
    }
   ],
   "source": [
    "cv_income_all = w_mtinc.std / w_mtinc.mean\n",
    "print(cv_income_all)"
   ]
  },
  {
   "cell_type": "code",
   "execution_count": 104,
   "id": "8bff31f9",
   "metadata": {},
   "outputs": [
    {
     "name": "stdout",
     "output_type": "stream",
     "text": [
      "1.4960226978808355\n"
     ]
    }
   ],
   "source": [
    "cv_earnings_all = w_earnings.std / w_earnings.mean\n",
    "print(cv_earnings_all)"
   ]
  },
  {
   "cell_type": "code",
   "execution_count": 105,
   "id": "dc946da7",
   "metadata": {},
   "outputs": [],
   "source": [
    "# Calculate the variance of the logs"
   ]
  },
  {
   "cell_type": "code",
   "execution_count": 109,
   "id": "65ca4cdb",
   "metadata": {},
   "outputs": [],
   "source": [
    "# Find the log earnings and mtinc, make sure the values are non-negative\n",
    "df['LOG_EARNINGS'] = df['EARNINGS'].apply(lambda x : math.log(x + 50365.4))"
   ]
  },
  {
   "cell_type": "code",
   "execution_count": 111,
   "id": "d6c62645",
   "metadata": {},
   "outputs": [
    {
     "data": {
      "text/plain": [
       "count    75372.000000\n",
       "mean        11.223217\n",
       "std          0.433054\n",
       "min         -0.002224\n",
       "25%         10.827060\n",
       "50%         11.110437\n",
       "75%         11.516573\n",
       "max         13.847217\n",
       "Name: LOG_EARNINGS, dtype: float64"
      ]
     },
     "execution_count": 111,
     "metadata": {},
     "output_type": "execute_result"
    }
   ],
   "source": [
    "df['LOG_EARNINGS'].describe()"
   ]
  },
  {
   "cell_type": "code",
   "execution_count": 112,
   "id": "32480729",
   "metadata": {},
   "outputs": [],
   "source": [
    "w_log_earnings = DescrStatsW(df['LOG_EARNINGS'], weights=df['FWEIGHT'])"
   ]
  },
  {
   "cell_type": "code",
   "execution_count": 113,
   "id": "290385d7",
   "metadata": {},
   "outputs": [
    {
     "data": {
      "text/plain": [
       "0.17932974970309615"
      ]
     },
     "execution_count": 113,
     "metadata": {},
     "output_type": "execute_result"
    }
   ],
   "source": [
    "w_log_earnings.var"
   ]
  },
  {
   "cell_type": "code",
   "execution_count": 114,
   "id": "1e964691",
   "metadata": {},
   "outputs": [
    {
     "name": "stdout",
     "output_type": "stream",
     "text": [
      "0.13808974968966073\n"
     ]
    }
   ],
   "source": [
    "df['LOG_MTINC'] = df['MTINC'].apply(lambda x : math.log(x + 62351))\n",
    "w_log_mtinc = DescrStatsW(df['LOG_MTINC'], weights=df['FWEIGHT'])\n",
    "print(w_log_mtinc.var)"
   ]
  },
  {
   "cell_type": "code",
   "execution_count": 115,
   "id": "f82d104d",
   "metadata": {},
   "outputs": [],
   "source": [
    "# Compute the Gini index for earnings and market income"
   ]
  },
  {
   "cell_type": "code",
   "execution_count": 116,
   "id": "345ef962",
   "metadata": {},
   "outputs": [],
   "source": [
    "def gini(x, w):\n",
    "    x = np.asarray(x)\n",
    "    w = np.asarray(w)\n",
    "    sorted_indices = np.argsort(x)\n",
    "    sorted_x = x[sorted_indices]\n",
    "    sorted_w = w[sorted_indices]\n",
    "    # Force float dtype to avoid overflows\n",
    "    cumw = np.cumsum(sorted_w, dtype=float)\n",
    "    cumxw = np.cumsum(sorted_x * sorted_w, dtype=float)\n",
    "    return (np.sum(cumxw[1:] * cumw[:-1] - cumxw[:-1] * cumw[1:]) / (cumxw[-1] * cumw[-1]))"
   ]
  },
  {
   "cell_type": "code",
   "execution_count": 117,
   "id": "64574d55",
   "metadata": {},
   "outputs": [
    {
     "data": {
      "text/plain": [
       "0.6514668888805589"
      ]
     },
     "execution_count": 117,
     "metadata": {},
     "output_type": "execute_result"
    }
   ],
   "source": [
    "gini(df['EARNINGS'], df['FWEIGHT'])"
   ]
  },
  {
   "cell_type": "code",
   "execution_count": 119,
   "id": "fabb1ec0",
   "metadata": {},
   "outputs": [
    {
     "data": {
      "text/plain": [
       "0.5726408723414022"
      ]
     },
     "execution_count": 119,
     "metadata": {},
     "output_type": "execute_result"
    }
   ],
   "source": [
    "gini(df['MTINC'], df['FWEIGHT'])"
   ]
  },
  {
   "cell_type": "code",
   "execution_count": 120,
   "id": "998d6551",
   "metadata": {},
   "outputs": [],
   "source": [
    "# Compute the ratio of the top 1% over the lowest 40%"
   ]
  },
  {
   "cell_type": "code",
   "execution_count": 122,
   "id": "a4a61c98",
   "metadata": {},
   "outputs": [
    {
     "data": {
      "text/plain": [
       "p\n",
       "0.99    190000.000000\n",
       "1.00    981849.558702\n",
       "dtype: float64"
      ]
     },
     "execution_count": 122,
     "metadata": {},
     "output_type": "execute_result"
    }
   ],
   "source": [
    "w_earnings.quantile([.99])"
   ]
  },
  {
   "cell_type": "code",
   "execution_count": 124,
   "id": "886c6fbe",
   "metadata": {},
   "outputs": [],
   "source": [
    "top_1p_earnings = df[df['EARNINGS'] >= 190000]"
   ]
  },
  {
   "cell_type": "code",
   "execution_count": 125,
   "id": "cc3860c2",
   "metadata": {},
   "outputs": [
    {
     "data": {
      "text/plain": [
       "714"
      ]
     },
     "execution_count": 125,
     "metadata": {},
     "output_type": "execute_result"
    }
   ],
   "source": [
    "len(top_1p_earnings)"
   ]
  },
  {
   "cell_type": "code",
   "execution_count": 126,
   "id": "4bf01dd6",
   "metadata": {},
   "outputs": [],
   "source": [
    "w_top_1p_earnings = DescrStatsW(top_1p_earnings['EARNINGS'], weights=top_1p_earnings['FWEIGHT'])"
   ]
  },
  {
   "cell_type": "code",
   "execution_count": 127,
   "id": "4b692be6",
   "metadata": {},
   "outputs": [
    {
     "data": {
      "text/plain": [
       "p\n",
       "0.4    6000.0\n",
       "dtype: float64"
      ]
     },
     "execution_count": 127,
     "metadata": {},
     "output_type": "execute_result"
    }
   ],
   "source": [
    "w_earnings.quantile([.4])"
   ]
  },
  {
   "cell_type": "code",
   "execution_count": 129,
   "id": "5238fd0a",
   "metadata": {},
   "outputs": [],
   "source": [
    "bottom_40p_earnings = df[df['EARNINGS'] <= 6000]\n",
    "w_bottom_40p_earnings = DescrStatsW(bottom_40p_earnings['EARNINGS'], weights=bottom_40p_earnings['FWEIGHT'])"
   ]
  },
  {
   "cell_type": "code",
   "execution_count": 130,
   "id": "8c816e2e",
   "metadata": {},
   "outputs": [
    {
     "data": {
      "text/plain": [
       "15.118043951137905"
      ]
     },
     "execution_count": 130,
     "metadata": {},
     "output_type": "execute_result"
    }
   ],
   "source": [
    "w_top_1p_earnings.sum / w_bottom_40p_earnings.sum"
   ]
  },
  {
   "cell_type": "code",
   "execution_count": 131,
   "id": "91986a7f",
   "metadata": {},
   "outputs": [],
   "source": [
    "# Now the same for market income"
   ]
  },
  {
   "cell_type": "code",
   "execution_count": 132,
   "id": "d3aba59f",
   "metadata": {},
   "outputs": [
    {
     "data": {
      "text/plain": [
       "p\n",
       "0.99    222500\n",
       "dtype: int64"
      ]
     },
     "execution_count": 132,
     "metadata": {},
     "output_type": "execute_result"
    }
   ],
   "source": [
    "w_mtinc.quantile([.99])"
   ]
  },
  {
   "cell_type": "code",
   "execution_count": 133,
   "id": "b5459b14",
   "metadata": {},
   "outputs": [],
   "source": [
    "top_1p_mtinc = df[df['MTINC'] >= 222500]\n",
    "w_top_1p_mtinc = DescrStatsW(top_1p_mtinc['MTINC'], weights=top_1p_mtinc['FWEIGHT'])"
   ]
  },
  {
   "cell_type": "code",
   "execution_count": 135,
   "id": "3d8752c2",
   "metadata": {},
   "outputs": [
    {
     "data": {
      "text/plain": [
       "p\n",
       "0.4    17000\n",
       "dtype: int64"
      ]
     },
     "execution_count": 135,
     "metadata": {},
     "output_type": "execute_result"
    }
   ],
   "source": [
    "w_mtinc.quantile([.4])"
   ]
  },
  {
   "cell_type": "code",
   "execution_count": 136,
   "id": "41dd9665",
   "metadata": {},
   "outputs": [],
   "source": [
    "bottom_40p_mtinc = df[df['MTINC'] <= 17000]\n",
    "w_bottom_40p_mtinc = DescrStatsW(bottom_40p_mtinc['MTINC'], weights=bottom_40p_mtinc['FWEIGHT'])"
   ]
  },
  {
   "cell_type": "code",
   "execution_count": 137,
   "id": "3a23aedc",
   "metadata": {},
   "outputs": [
    {
     "data": {
      "text/plain": [
       "1.8087432339936367"
      ]
     },
     "execution_count": 137,
     "metadata": {},
     "output_type": "execute_result"
    }
   ],
   "source": [
    "w_top_1p_mtinc.sum / w_bottom_40p_mtinc.sum"
   ]
  },
  {
   "cell_type": "code",
   "execution_count": 160,
   "id": "9d9dc6df",
   "metadata": {},
   "outputs": [],
   "source": [
    "# Compute the ratio of mean to median\n",
    "def weighted_median(val):\n",
    "    df_sorted = df.sort_values(val)\n",
    "    cumsum = df_sorted['FWEIGHT'].cumsum()\n",
    "    cutoff = df_sorted['FWEIGHT'].sum() / 2.\n",
    "    return df_sorted[cumsum >= cutoff][val].iloc[0]"
   ]
  },
  {
   "cell_type": "code",
   "execution_count": 162,
   "id": "847d4da8",
   "metadata": {},
   "outputs": [
    {
     "data": {
      "text/plain": [
       "2.058227425834695"
      ]
     },
     "execution_count": 162,
     "metadata": {},
     "output_type": "execute_result"
    }
   ],
   "source": [
    "w_earnings.mean / weighted_median('EARNINGS')"
   ]
  },
  {
   "cell_type": "code",
   "execution_count": 163,
   "id": "71549e03",
   "metadata": {},
   "outputs": [
    {
     "data": {
      "text/plain": [
       "1.522677901025595"
      ]
     },
     "execution_count": 163,
     "metadata": {},
     "output_type": "execute_result"
    }
   ],
   "source": [
    "w_mtinc.mean / weighted_median('MTINC')"
   ]
  },
  {
   "cell_type": "code",
   "execution_count": 173,
   "id": "7ea1edcc",
   "metadata": {},
   "outputs": [
    {
     "data": {
      "text/plain": [
       "p\n",
       "0.00    -50364.402221\n",
       "0.01         0.000000\n",
       "0.05         0.000000\n",
       "0.10         0.000000\n",
       "0.20         0.000000\n",
       "0.40      6000.000000\n",
       "0.60     27000.000000\n",
       "0.80     57500.000000\n",
       "0.90     85000.000000\n",
       "0.95    110000.000000\n",
       "0.99    190000.000000\n",
       "1.00    981849.558702\n",
       "dtype: float64"
      ]
     },
     "execution_count": 173,
     "metadata": {},
     "output_type": "execute_result"
    }
   ],
   "source": [
    "w_earnings.quantile(quantiles)"
   ]
  },
  {
   "cell_type": "code",
   "execution_count": null,
   "id": "63dd28ac",
   "metadata": {},
   "outputs": [],
   "source": [
    "# Analyze the sources of income across the distribution"
   ]
  },
  {
   "cell_type": "code",
   "execution_count": 176,
   "id": "148825ba",
   "metadata": {},
   "outputs": [],
   "source": [
    "bin_labels = [0,.01,.4,.6,.8,.9,.95,1]\n",
    "df['EARNINGS_BINNED'] = pd.cut(df['EARNINGS'], w_earnings.quantile(quantiles).unique(), labels=bin_labels)"
   ]
  },
  {
   "cell_type": "code",
   "execution_count": 177,
   "id": "9e1081f7",
   "metadata": {},
   "outputs": [
    {
     "data": {
      "text/html": [
       "<div>\n",
       "<style scoped>\n",
       "    .dataframe tbody tr th:only-of-type {\n",
       "        vertical-align: middle;\n",
       "    }\n",
       "\n",
       "    .dataframe tbody tr th {\n",
       "        vertical-align: top;\n",
       "    }\n",
       "\n",
       "    .dataframe thead th {\n",
       "        text-align: right;\n",
       "    }\n",
       "</style>\n",
       "<table border=\"1\" class=\"dataframe\">\n",
       "  <thead>\n",
       "    <tr style=\"text-align: right;\">\n",
       "      <th></th>\n",
       "      <th>EARNINGS</th>\n",
       "      <th>EARNINGS_BINNED</th>\n",
       "    </tr>\n",
       "  </thead>\n",
       "  <tbody>\n",
       "    <tr>\n",
       "      <th>0</th>\n",
       "      <td>11739.823481</td>\n",
       "      <td>0.4</td>\n",
       "    </tr>\n",
       "    <tr>\n",
       "      <th>1</th>\n",
       "      <td>10206.820003</td>\n",
       "      <td>0.4</td>\n",
       "    </tr>\n",
       "    <tr>\n",
       "      <th>2</th>\n",
       "      <td>0.000000</td>\n",
       "      <td>0.0</td>\n",
       "    </tr>\n",
       "    <tr>\n",
       "      <th>3</th>\n",
       "      <td>96699.652265</td>\n",
       "      <td>0.9</td>\n",
       "    </tr>\n",
       "    <tr>\n",
       "      <th>4</th>\n",
       "      <td>0.000000</td>\n",
       "      <td>0.0</td>\n",
       "    </tr>\n",
       "    <tr>\n",
       "      <th>...</th>\n",
       "      <td>...</td>\n",
       "      <td>...</td>\n",
       "    </tr>\n",
       "    <tr>\n",
       "      <th>92282</th>\n",
       "      <td>-2498.074350</td>\n",
       "      <td>0.0</td>\n",
       "    </tr>\n",
       "    <tr>\n",
       "      <th>92283</th>\n",
       "      <td>0.000000</td>\n",
       "      <td>0.0</td>\n",
       "    </tr>\n",
       "    <tr>\n",
       "      <th>92284</th>\n",
       "      <td>0.000000</td>\n",
       "      <td>0.0</td>\n",
       "    </tr>\n",
       "    <tr>\n",
       "      <th>92290</th>\n",
       "      <td>15310.778275</td>\n",
       "      <td>0.4</td>\n",
       "    </tr>\n",
       "    <tr>\n",
       "      <th>92291</th>\n",
       "      <td>16000.000000</td>\n",
       "      <td>0.4</td>\n",
       "    </tr>\n",
       "  </tbody>\n",
       "</table>\n",
       "<p>75372 rows × 2 columns</p>\n",
       "</div>"
      ],
      "text/plain": [
       "           EARNINGS EARNINGS_BINNED\n",
       "0      11739.823481             0.4\n",
       "1      10206.820003             0.4\n",
       "2          0.000000             0.0\n",
       "3      96699.652265             0.9\n",
       "4          0.000000             0.0\n",
       "...             ...             ...\n",
       "92282  -2498.074350             0.0\n",
       "92283      0.000000             0.0\n",
       "92284      0.000000             0.0\n",
       "92290  15310.778275             0.4\n",
       "92291  16000.000000             0.4\n",
       "\n",
       "[75372 rows x 2 columns]"
      ]
     },
     "execution_count": 177,
     "metadata": {},
     "output_type": "execute_result"
    }
   ],
   "source": [
    "df[['EARNINGS', 'EARNINGS_BINNED']]"
   ]
  },
  {
   "cell_type": "code",
   "execution_count": 178,
   "id": "2c461419",
   "metadata": {},
   "outputs": [
    {
     "data": {
      "text/plain": [
       "p\n",
       "0.00     -62350\n",
       "0.01          0\n",
       "0.05          0\n",
       "0.10          0\n",
       "0.20       2725\n",
       "0.40      17000\n",
       "0.60      37000\n",
       "0.80      65000\n",
       "0.90      92500\n",
       "0.95     120000\n",
       "0.99     222500\n",
       "1.00    1257400\n",
       "dtype: int64"
      ]
     },
     "execution_count": 178,
     "metadata": {},
     "output_type": "execute_result"
    }
   ],
   "source": [
    "w_mtinc.quantile(quantiles)"
   ]
  },
  {
   "cell_type": "code",
   "execution_count": 198,
   "id": "220e110c",
   "metadata": {},
   "outputs": [],
   "source": [
    "bin_labels = ['1st Quintile','2nd Quintile','3rd Quintile','4th Quintile','5th Quintile']\n",
    "df['MTINC_BINNED'] = pd.cut(df['MTINC'], w_mtinc.quantile([0,.2,.4,.6,.8,1]).unique(), labels=bin_labels)"
   ]
  },
  {
   "cell_type": "code",
   "execution_count": 199,
   "id": "44908b07",
   "metadata": {},
   "outputs": [
    {
     "data": {
      "text/html": [
       "<div>\n",
       "<style scoped>\n",
       "    .dataframe tbody tr th:only-of-type {\n",
       "        vertical-align: middle;\n",
       "    }\n",
       "\n",
       "    .dataframe tbody tr th {\n",
       "        vertical-align: top;\n",
       "    }\n",
       "\n",
       "    .dataframe thead th {\n",
       "        text-align: right;\n",
       "    }\n",
       "</style>\n",
       "<table border=\"1\" class=\"dataframe\">\n",
       "  <thead>\n",
       "    <tr style=\"text-align: right;\">\n",
       "      <th></th>\n",
       "      <th>MTINC</th>\n",
       "      <th>MTINC_BINNED</th>\n",
       "    </tr>\n",
       "  </thead>\n",
       "  <tbody>\n",
       "    <tr>\n",
       "      <th>0</th>\n",
       "      <td>12400</td>\n",
       "      <td>2nd Quintile</td>\n",
       "    </tr>\n",
       "    <tr>\n",
       "      <th>1</th>\n",
       "      <td>11100</td>\n",
       "      <td>2nd Quintile</td>\n",
       "    </tr>\n",
       "    <tr>\n",
       "      <th>2</th>\n",
       "      <td>50</td>\n",
       "      <td>1st Quintile</td>\n",
       "    </tr>\n",
       "    <tr>\n",
       "      <th>3</th>\n",
       "      <td>120325</td>\n",
       "      <td>5th Quintile</td>\n",
       "    </tr>\n",
       "    <tr>\n",
       "      <th>4</th>\n",
       "      <td>60550</td>\n",
       "      <td>4th Quintile</td>\n",
       "    </tr>\n",
       "    <tr>\n",
       "      <th>...</th>\n",
       "      <td>...</td>\n",
       "      <td>...</td>\n",
       "    </tr>\n",
       "    <tr>\n",
       "      <th>92282</th>\n",
       "      <td>17300</td>\n",
       "      <td>3rd Quintile</td>\n",
       "    </tr>\n",
       "    <tr>\n",
       "      <th>92283</th>\n",
       "      <td>0</td>\n",
       "      <td>1st Quintile</td>\n",
       "    </tr>\n",
       "    <tr>\n",
       "      <th>92284</th>\n",
       "      <td>0</td>\n",
       "      <td>1st Quintile</td>\n",
       "    </tr>\n",
       "    <tr>\n",
       "      <th>92290</th>\n",
       "      <td>22700</td>\n",
       "      <td>3rd Quintile</td>\n",
       "    </tr>\n",
       "    <tr>\n",
       "      <th>92291</th>\n",
       "      <td>16000</td>\n",
       "      <td>2nd Quintile</td>\n",
       "    </tr>\n",
       "  </tbody>\n",
       "</table>\n",
       "<p>75372 rows × 2 columns</p>\n",
       "</div>"
      ],
      "text/plain": [
       "        MTINC  MTINC_BINNED\n",
       "0       12400  2nd Quintile\n",
       "1       11100  2nd Quintile\n",
       "2          50  1st Quintile\n",
       "3      120325  5th Quintile\n",
       "4       60550  4th Quintile\n",
       "...       ...           ...\n",
       "92282   17300  3rd Quintile\n",
       "92283       0  1st Quintile\n",
       "92284       0  1st Quintile\n",
       "92290   22700  3rd Quintile\n",
       "92291   16000  2nd Quintile\n",
       "\n",
       "[75372 rows x 2 columns]"
      ]
     },
     "execution_count": 199,
     "metadata": {},
     "output_type": "execute_result"
    }
   ],
   "source": [
    "df[['MTINC', 'MTINC_BINNED']]"
   ]
  },
  {
   "cell_type": "code",
   "execution_count": 223,
   "id": "920ab44b",
   "metadata": {},
   "outputs": [],
   "source": [
    "def compute_income_shares(group):\n",
    "    w_group_wages = DescrStatsW(group['WGSAL'], weights=group['FWEIGHT'])\n",
    "    w_group_busi = DescrStatsW(group['SEMP'], weights=group['FWEIGHT'])\n",
    "    w_group_inc = DescrStatsW(group['MTINC'], weights=group['FWEIGHT'])\n",
    "    \n",
    "    wage_sum = w_group_wages.sum\n",
    "    busi_sum = w_group_busi.sum\n",
    "    inc_sum = w_group_inc.sum\n",
    "    \n",
    "    return (busi_sum / inc_sum) * 100, (wage_sum / inc_sum) * 100 \n",
    "    "
   ]
  },
  {
   "cell_type": "code",
   "execution_count": 231,
   "id": "1a20208e",
   "metadata": {},
   "outputs": [],
   "source": [
    "col = columns=['wage_and_salary', 'business']\n",
    "quint_df = pd.DataFrame(columns=col)\n",
    "for i in bin_labels:\n",
    "    bin_group = df[df['MTINC_BINNED'] == i]\n",
    "    busi_share, wage_share = compute_income_shares(bin_group)\n",
    "    row = pd.DataFrame([[wage_share, busi_share]], columns=col, index=[i])\n",
    "    quint_df = quint_df.append(row)"
   ]
  },
  {
   "cell_type": "code",
   "execution_count": 232,
   "id": "6726f1cd",
   "metadata": {},
   "outputs": [
    {
     "data": {
      "text/html": [
       "<div>\n",
       "<style scoped>\n",
       "    .dataframe tbody tr th:only-of-type {\n",
       "        vertical-align: middle;\n",
       "    }\n",
       "\n",
       "    .dataframe tbody tr th {\n",
       "        vertical-align: top;\n",
       "    }\n",
       "\n",
       "    .dataframe thead th {\n",
       "        text-align: right;\n",
       "    }\n",
       "</style>\n",
       "<table border=\"1\" class=\"dataframe\">\n",
       "  <thead>\n",
       "    <tr style=\"text-align: right;\">\n",
       "      <th></th>\n",
       "      <th>1st Quintile</th>\n",
       "      <th>2nd Quintile</th>\n",
       "      <th>3rd Quintile</th>\n",
       "      <th>4th Quintile</th>\n",
       "      <th>5th Quintile</th>\n",
       "    </tr>\n",
       "    <tr>\n",
       "      <th>Income sources (%)</th>\n",
       "      <th></th>\n",
       "      <th></th>\n",
       "      <th></th>\n",
       "      <th></th>\n",
       "      <th></th>\n",
       "    </tr>\n",
       "  </thead>\n",
       "  <tbody>\n",
       "    <tr>\n",
       "      <th>wage_and_salary</th>\n",
       "      <td>72.36</td>\n",
       "      <td>55.85</td>\n",
       "      <td>67.06</td>\n",
       "      <td>77.57</td>\n",
       "      <td>80.70</td>\n",
       "    </tr>\n",
       "    <tr>\n",
       "      <th>business</th>\n",
       "      <td>-56.35</td>\n",
       "      <td>10.19</td>\n",
       "      <td>6.68</td>\n",
       "      <td>3.47</td>\n",
       "      <td>4.32</td>\n",
       "    </tr>\n",
       "  </tbody>\n",
       "</table>\n",
       "</div>"
      ],
      "text/plain": [
       "                    1st Quintile  2nd Quintile  3rd Quintile  4th Quintile  \\\n",
       "Income sources (%)                                                           \n",
       "wage_and_salary            72.36         55.85         67.06         77.57   \n",
       "business                  -56.35         10.19          6.68          3.47   \n",
       "\n",
       "                    5th Quintile  \n",
       "Income sources (%)                \n",
       "wage_and_salary            80.70  \n",
       "business                    4.32  "
      ]
     },
     "execution_count": 232,
     "metadata": {},
     "output_type": "execute_result"
    }
   ],
   "source": [
    "t = quint_df.transpose().round(2)\n",
    "t.index.name = 'Income sources (%)'\n",
    "t.head()"
   ]
  },
  {
   "cell_type": "code",
   "execution_count": 233,
   "id": "376b4b71",
   "metadata": {},
   "outputs": [],
   "source": [
    "# Conduct a finer analysis on the top of the distribution"
   ]
  },
  {
   "cell_type": "code",
   "execution_count": 234,
   "id": "27e6db79",
   "metadata": {},
   "outputs": [],
   "source": [
    "top_bin_labels = ['Bottom','Top 2-5%','Top 2%','Top 1%']\n",
    "df['MTINC_BINNED_TOP'] = pd.cut(df['MTINC'], w_mtinc.quantile([0,.95,.98,.99,1]).unique(), labels=top_bin_labels)"
   ]
  },
  {
   "cell_type": "code",
   "execution_count": 235,
   "id": "b0e1b2cb",
   "metadata": {},
   "outputs": [],
   "source": [
    "for i in top_bin_labels:\n",
    "    if (i == 'Bottom'):\n",
    "        continue\n",
    "    bin_group = df[df['MTINC_BINNED_TOP'] == i]\n",
    "    busi_share, wage_share = compute_income_shares(bin_group)\n",
    "    row = pd.DataFrame([[wage_share, busi_share]], columns=col, index=[i])\n",
    "    quint_df = quint_df.append(row)"
   ]
  },
  {
   "cell_type": "code",
   "execution_count": 236,
   "id": "f18aca9f",
   "metadata": {},
   "outputs": [],
   "source": [
    "# Compute the income sources for the entire sample"
   ]
  },
  {
   "cell_type": "code",
   "execution_count": 237,
   "id": "32a71e42",
   "metadata": {},
   "outputs": [],
   "source": [
    "busi_share, wage_share = compute_income_shares(df)\n",
    "row = pd.DataFrame([[wage_share, busi_share]], columns=col, index=['All'])\n",
    "quint_df = quint_df.append(row)"
   ]
  },
  {
   "cell_type": "code",
   "execution_count": 238,
   "id": "8877c8af",
   "metadata": {},
   "outputs": [
    {
     "data": {
      "text/html": [
       "<div>\n",
       "<style scoped>\n",
       "    .dataframe tbody tr th:only-of-type {\n",
       "        vertical-align: middle;\n",
       "    }\n",
       "\n",
       "    .dataframe tbody tr th {\n",
       "        vertical-align: top;\n",
       "    }\n",
       "\n",
       "    .dataframe thead th {\n",
       "        text-align: right;\n",
       "    }\n",
       "</style>\n",
       "<table border=\"1\" class=\"dataframe\">\n",
       "  <thead>\n",
       "    <tr style=\"text-align: right;\">\n",
       "      <th></th>\n",
       "      <th>1st Quintile</th>\n",
       "      <th>2nd Quintile</th>\n",
       "      <th>3rd Quintile</th>\n",
       "      <th>4th Quintile</th>\n",
       "      <th>5th Quintile</th>\n",
       "      <th>Top 2-5%</th>\n",
       "      <th>Top 2%</th>\n",
       "      <th>Top 1%</th>\n",
       "      <th>All</th>\n",
       "    </tr>\n",
       "    <tr>\n",
       "      <th>Income sources (%)</th>\n",
       "      <th></th>\n",
       "      <th></th>\n",
       "      <th></th>\n",
       "      <th></th>\n",
       "      <th></th>\n",
       "      <th></th>\n",
       "      <th></th>\n",
       "      <th></th>\n",
       "      <th></th>\n",
       "    </tr>\n",
       "  </thead>\n",
       "  <tbody>\n",
       "    <tr>\n",
       "      <th>wage_and_salary</th>\n",
       "      <td>72.36</td>\n",
       "      <td>55.85</td>\n",
       "      <td>67.06</td>\n",
       "      <td>77.57</td>\n",
       "      <td>80.70</td>\n",
       "      <td>78.64</td>\n",
       "      <td>77.11</td>\n",
       "      <td>73.06</td>\n",
       "      <td>76.84</td>\n",
       "    </tr>\n",
       "    <tr>\n",
       "      <th>business</th>\n",
       "      <td>-56.35</td>\n",
       "      <td>10.19</td>\n",
       "      <td>6.68</td>\n",
       "      <td>3.47</td>\n",
       "      <td>4.32</td>\n",
       "      <td>5.50</td>\n",
       "      <td>4.14</td>\n",
       "      <td>5.90</td>\n",
       "      <td>4.65</td>\n",
       "    </tr>\n",
       "  </tbody>\n",
       "</table>\n",
       "</div>"
      ],
      "text/plain": [
       "                    1st Quintile  2nd Quintile  3rd Quintile  4th Quintile  \\\n",
       "Income sources (%)                                                           \n",
       "wage_and_salary            72.36         55.85         67.06         77.57   \n",
       "business                  -56.35         10.19          6.68          3.47   \n",
       "\n",
       "                    5th Quintile  Top 2-5%  Top 2%  Top 1%    All  \n",
       "Income sources (%)                                                 \n",
       "wage_and_salary            80.70     78.64   77.11   73.06  76.84  \n",
       "business                    4.32      5.50    4.14    5.90   4.65  "
      ]
     },
     "execution_count": 238,
     "metadata": {},
     "output_type": "execute_result"
    }
   ],
   "source": [
    "t = quint_df.transpose().round(2)\n",
    "t.index.name = 'Income sources (%)'\n",
    "t.head()"
   ]
  },
  {
   "cell_type": "code",
   "execution_count": 239,
   "id": "741c4056",
   "metadata": {},
   "outputs": [],
   "source": [
    "# Create the same table for Quebec"
   ]
  },
  {
   "cell_type": "code",
   "execution_count": 240,
   "id": "0bf63605",
   "metadata": {},
   "outputs": [
    {
     "name": "stderr",
     "output_type": "stream",
     "text": [
      "/var/folders/vm/2f49ytdn1dbfj69vn12fkkzc0000gn/T/ipykernel_26900/1124109006.py:1: SettingWithCopyWarning: \n",
      "A value is trying to be set on a copy of a slice from a DataFrame.\n",
      "Try using .loc[row_indexer,col_indexer] = value instead\n",
      "\n",
      "See the caveats in the documentation: https://pandas.pydata.org/pandas-docs/stable/user_guide/indexing.html#returning-a-view-versus-a-copy\n",
      "  quebec_df['MTINC_BINNED'] = pd.cut(quebec_df['MTINC'], w_quebec_mtinc.quantile([0,.2,.4,.6,.8,1]).unique(), labels=bin_labels)\n",
      "/var/folders/vm/2f49ytdn1dbfj69vn12fkkzc0000gn/T/ipykernel_26900/1124109006.py:10: SettingWithCopyWarning: \n",
      "A value is trying to be set on a copy of a slice from a DataFrame.\n",
      "Try using .loc[row_indexer,col_indexer] = value instead\n",
      "\n",
      "See the caveats in the documentation: https://pandas.pydata.org/pandas-docs/stable/user_guide/indexing.html#returning-a-view-versus-a-copy\n",
      "  quebec_df['MTINC_BINNED_TOP'] = pd.cut(quebec_df['MTINC'], w_quebec_mtinc.quantile([0,.95,.98,.99,1]).unique(), labels=top_bin_labels)\n"
     ]
    },
    {
     "data": {
      "text/html": [
       "<div>\n",
       "<style scoped>\n",
       "    .dataframe tbody tr th:only-of-type {\n",
       "        vertical-align: middle;\n",
       "    }\n",
       "\n",
       "    .dataframe tbody tr th {\n",
       "        vertical-align: top;\n",
       "    }\n",
       "\n",
       "    .dataframe thead th {\n",
       "        text-align: right;\n",
       "    }\n",
       "</style>\n",
       "<table border=\"1\" class=\"dataframe\">\n",
       "  <thead>\n",
       "    <tr style=\"text-align: right;\">\n",
       "      <th></th>\n",
       "      <th>1st Quintile</th>\n",
       "      <th>2nd Quintile</th>\n",
       "      <th>3rd Quintile</th>\n",
       "      <th>4th Quintile</th>\n",
       "      <th>5th Quintile</th>\n",
       "      <th>Top 2-5%</th>\n",
       "      <th>Top 2%</th>\n",
       "      <th>Top 1%</th>\n",
       "      <th>All</th>\n",
       "    </tr>\n",
       "    <tr>\n",
       "      <th>Income sources (%)</th>\n",
       "      <th></th>\n",
       "      <th></th>\n",
       "      <th></th>\n",
       "      <th></th>\n",
       "      <th></th>\n",
       "      <th></th>\n",
       "      <th></th>\n",
       "      <th></th>\n",
       "      <th></th>\n",
       "    </tr>\n",
       "  </thead>\n",
       "  <tbody>\n",
       "    <tr>\n",
       "      <th>wage_and_salary</th>\n",
       "      <td>58.42</td>\n",
       "      <td>55.32</td>\n",
       "      <td>65.74</td>\n",
       "      <td>76.79</td>\n",
       "      <td>80.47</td>\n",
       "      <td>84.55</td>\n",
       "      <td>75.80</td>\n",
       "      <td>58.29</td>\n",
       "      <td>76.11</td>\n",
       "    </tr>\n",
       "    <tr>\n",
       "      <th>business</th>\n",
       "      <td>-57.17</td>\n",
       "      <td>8.37</td>\n",
       "      <td>6.83</td>\n",
       "      <td>2.60</td>\n",
       "      <td>5.15</td>\n",
       "      <td>5.61</td>\n",
       "      <td>9.06</td>\n",
       "      <td>14.21</td>\n",
       "      <td>4.83</td>\n",
       "    </tr>\n",
       "  </tbody>\n",
       "</table>\n",
       "</div>"
      ],
      "text/plain": [
       "                    1st Quintile  2nd Quintile  3rd Quintile  4th Quintile  \\\n",
       "Income sources (%)                                                           \n",
       "wage_and_salary            58.42         55.32         65.74         76.79   \n",
       "business                  -57.17          8.37          6.83          2.60   \n",
       "\n",
       "                    5th Quintile  Top 2-5%  Top 2%  Top 1%    All  \n",
       "Income sources (%)                                                 \n",
       "wage_and_salary            80.47     84.55   75.80   58.29  76.11  \n",
       "business                    5.15      5.61    9.06   14.21   4.83  "
      ]
     },
     "execution_count": 240,
     "metadata": {},
     "output_type": "execute_result"
    }
   ],
   "source": [
    "quebec_df['MTINC_BINNED'] = pd.cut(quebec_df['MTINC'], w_quebec_mtinc.quantile([0,.2,.4,.6,.8,1]).unique(), labels=bin_labels)\n",
    "quebec_quint_df = pd.DataFrame(columns=col)\n",
    "for i in bin_labels:\n",
    "    bin_group = quebec_df[quebec_df['MTINC_BINNED'] == i]\n",
    "    busi_share, wage_share = compute_income_shares(bin_group)\n",
    "    row = pd.DataFrame([[wage_share, busi_share]], columns=col, index=[i])\n",
    "    quebec_quint_df = quebec_quint_df.append(row)\n",
    "    \n",
    "# Top of distribution\n",
    "quebec_df['MTINC_BINNED_TOP'] = pd.cut(quebec_df['MTINC'], w_quebec_mtinc.quantile([0,.95,.98,.99,1]).unique(), labels=top_bin_labels)\n",
    "\n",
    "for i in top_bin_labels:\n",
    "    if (i == 'Bottom'):\n",
    "        continue\n",
    "    bin_group = quebec_df[quebec_df['MTINC_BINNED_TOP'] == i]\n",
    "    busi_share, wage_share = compute_income_shares(bin_group)\n",
    "    row = pd.DataFrame([[wage_share, busi_share]], columns=col, index=[i])\n",
    "    quebec_quint_df = quebec_quint_df.append(row)\n",
    "\n",
    "# All\n",
    "busi_share, wage_share = compute_income_shares(quebec_df)\n",
    "row = pd.DataFrame([[wage_share, busi_share]], columns=col, index=['All'])\n",
    "quebec_quint_df = quebec_quint_df.append(row)\n",
    "\n",
    "# display\n",
    "t = quebec_quint_df.transpose().round(2)\n",
    "t.index.name = 'Income sources (%)'\n",
    "t.head()"
   ]
  },
  {
   "cell_type": "code",
   "execution_count": 230,
   "id": "4fc5ab17",
   "metadata": {},
   "outputs": [],
   "source": [
    "# Create the same table for ages 25-55"
   ]
  },
  {
   "cell_type": "code",
   "execution_count": 241,
   "id": "32d1954f",
   "metadata": {},
   "outputs": [
    {
     "name": "stderr",
     "output_type": "stream",
     "text": [
      "/var/folders/vm/2f49ytdn1dbfj69vn12fkkzc0000gn/T/ipykernel_26900/4071098037.py:1: SettingWithCopyWarning: \n",
      "A value is trying to be set on a copy of a slice from a DataFrame.\n",
      "Try using .loc[row_indexer,col_indexer] = value instead\n",
      "\n",
      "See the caveats in the documentation: https://pandas.pydata.org/pandas-docs/stable/user_guide/indexing.html#returning-a-view-versus-a-copy\n",
      "  mid_df['MTINC_BINNED'] = pd.cut(mid_df['MTINC'], w_mid_mtinc.quantile([0,.2,.4,.6,.8,1]).unique(), labels=bin_labels)\n",
      "/var/folders/vm/2f49ytdn1dbfj69vn12fkkzc0000gn/T/ipykernel_26900/4071098037.py:10: SettingWithCopyWarning: \n",
      "A value is trying to be set on a copy of a slice from a DataFrame.\n",
      "Try using .loc[row_indexer,col_indexer] = value instead\n",
      "\n",
      "See the caveats in the documentation: https://pandas.pydata.org/pandas-docs/stable/user_guide/indexing.html#returning-a-view-versus-a-copy\n",
      "  mid_df['MTINC_BINNED_TOP'] = pd.cut(mid_df['MTINC'], w_mid_mtinc.quantile([0,.95,.98,.99,1]).unique(), labels=top_bin_labels)\n"
     ]
    },
    {
     "data": {
      "text/html": [
       "<div>\n",
       "<style scoped>\n",
       "    .dataframe tbody tr th:only-of-type {\n",
       "        vertical-align: middle;\n",
       "    }\n",
       "\n",
       "    .dataframe tbody tr th {\n",
       "        vertical-align: top;\n",
       "    }\n",
       "\n",
       "    .dataframe thead th {\n",
       "        text-align: right;\n",
       "    }\n",
       "</style>\n",
       "<table border=\"1\" class=\"dataframe\">\n",
       "  <thead>\n",
       "    <tr style=\"text-align: right;\">\n",
       "      <th></th>\n",
       "      <th>1st Quintile</th>\n",
       "      <th>2nd Quintile</th>\n",
       "      <th>3rd Quintile</th>\n",
       "      <th>4th Quintile</th>\n",
       "      <th>5th Quintile</th>\n",
       "      <th>Top 2-5%</th>\n",
       "      <th>Top 2%</th>\n",
       "      <th>Top 1%</th>\n",
       "      <th>All</th>\n",
       "    </tr>\n",
       "    <tr>\n",
       "      <th>Income sources (%)</th>\n",
       "      <th></th>\n",
       "      <th></th>\n",
       "      <th></th>\n",
       "      <th></th>\n",
       "      <th></th>\n",
       "      <th></th>\n",
       "      <th></th>\n",
       "      <th></th>\n",
       "      <th></th>\n",
       "    </tr>\n",
       "  </thead>\n",
       "  <tbody>\n",
       "    <tr>\n",
       "      <th>wage_and_salary</th>\n",
       "      <td>68.05</td>\n",
       "      <td>80.87</td>\n",
       "      <td>90.83</td>\n",
       "      <td>92.90</td>\n",
       "      <td>88.87</td>\n",
       "      <td>86.01</td>\n",
       "      <td>86.17</td>\n",
       "      <td>82.24</td>\n",
       "      <td>89.37</td>\n",
       "    </tr>\n",
       "    <tr>\n",
       "      <th>business</th>\n",
       "      <td>15.05</td>\n",
       "      <td>12.26</td>\n",
       "      <td>4.82</td>\n",
       "      <td>2.77</td>\n",
       "      <td>4.06</td>\n",
       "      <td>5.05</td>\n",
       "      <td>4.42</td>\n",
       "      <td>5.45</td>\n",
       "      <td>4.62</td>\n",
       "    </tr>\n",
       "  </tbody>\n",
       "</table>\n",
       "</div>"
      ],
      "text/plain": [
       "                    1st Quintile  2nd Quintile  3rd Quintile  4th Quintile  \\\n",
       "Income sources (%)                                                           \n",
       "wage_and_salary            68.05         80.87         90.83         92.90   \n",
       "business                   15.05         12.26          4.82          2.77   \n",
       "\n",
       "                    5th Quintile  Top 2-5%  Top 2%  Top 1%    All  \n",
       "Income sources (%)                                                 \n",
       "wage_and_salary            88.87     86.01   86.17   82.24  89.37  \n",
       "business                    4.06      5.05    4.42    5.45   4.62  "
      ]
     },
     "execution_count": 241,
     "metadata": {},
     "output_type": "execute_result"
    }
   ],
   "source": [
    "mid_df['MTINC_BINNED'] = pd.cut(mid_df['MTINC'], w_mid_mtinc.quantile([0,.2,.4,.6,.8,1]).unique(), labels=bin_labels)\n",
    "mid_quint_df = pd.DataFrame(columns=col)\n",
    "for i in bin_labels:\n",
    "    bin_group = mid_df[mid_df['MTINC_BINNED'] == i]\n",
    "    busi_share, wage_share = compute_income_shares(bin_group)\n",
    "    row = pd.DataFrame([[wage_share, busi_share]], columns=col, index=[i])\n",
    "    mid_quint_df = mid_quint_df.append(row)\n",
    "    \n",
    "# Top of distribution\n",
    "mid_df['MTINC_BINNED_TOP'] = pd.cut(mid_df['MTINC'], w_mid_mtinc.quantile([0,.95,.98,.99,1]).unique(), labels=top_bin_labels)\n",
    "\n",
    "for i in top_bin_labels:\n",
    "    if (i == 'Bottom'):\n",
    "        continue\n",
    "    bin_group = mid_df[mid_df['MTINC_BINNED_TOP'] == i]\n",
    "    busi_share, wage_share = compute_income_shares(bin_group)\n",
    "    row = pd.DataFrame([[wage_share, busi_share]], columns=col, index=[i])\n",
    "    mid_quint_df = mid_quint_df.append(row)\n",
    "\n",
    "# All\n",
    "busi_share, wage_share = compute_income_shares(mid_df)\n",
    "row = pd.DataFrame([[wage_share, busi_share]], columns=col, index=['All'])\n",
    "mid_quint_df = mid_quint_df.append(row)\n",
    "\n",
    "# display\n",
    "t = mid_quint_df.transpose().round(2)\n",
    "t.index.name = 'Income sources (%)'\n",
    "t.head()"
   ]
  },
  {
   "cell_type": "code",
   "execution_count": 242,
   "id": "73778136",
   "metadata": {},
   "outputs": [],
   "source": [
    "# Examine the role of age in earnings"
   ]
  },
  {
   "cell_type": "code",
   "execution_count": 244,
   "id": "79f9d41a",
   "metadata": {},
   "outputs": [
    {
     "data": {
      "text/plain": [
       "array([ 4, 10, 16, 15,  9, 14, 12, 13,  6,  7, 11,  8,  5])"
      ]
     },
     "execution_count": 244,
     "metadata": {},
     "output_type": "execute_result"
    }
   ],
   "source": [
    "df['AGEGP'].unique()"
   ]
  },
  {
   "cell_type": "code",
   "execution_count": 256,
   "id": "b1508872",
   "metadata": {},
   "outputs": [],
   "source": [
    "def weighted_earnings_sum(group):\n",
    "    w_group_earnings = DescrStatsW(group['EARNINGS'], weights=group['FWEIGHT'])\n",
    "    d = {}\n",
    "    d['w_earnings'] = w_group_earnings.sum\n",
    "    return pd.Series(d, index=['w_earnings'])"
   ]
  },
  {
   "cell_type": "code",
   "execution_count": 258,
   "id": "2dec3e17",
   "metadata": {},
   "outputs": [
    {
     "data": {
      "text/html": [
       "<div>\n",
       "<style scoped>\n",
       "    .dataframe tbody tr th:only-of-type {\n",
       "        vertical-align: middle;\n",
       "    }\n",
       "\n",
       "    .dataframe tbody tr th {\n",
       "        vertical-align: top;\n",
       "    }\n",
       "\n",
       "    .dataframe thead th {\n",
       "        text-align: right;\n",
       "    }\n",
       "</style>\n",
       "<table border=\"1\" class=\"dataframe\">\n",
       "  <thead>\n",
       "    <tr style=\"text-align: right;\">\n",
       "      <th>AGEGP</th>\n",
       "      <th>4</th>\n",
       "      <th>5</th>\n",
       "      <th>6</th>\n",
       "      <th>7</th>\n",
       "      <th>8</th>\n",
       "      <th>9</th>\n",
       "      <th>10</th>\n",
       "      <th>11</th>\n",
       "      <th>12</th>\n",
       "      <th>13</th>\n",
       "      <th>14</th>\n",
       "      <th>15</th>\n",
       "      <th>16</th>\n",
       "    </tr>\n",
       "  </thead>\n",
       "  <tbody>\n",
       "    <tr>\n",
       "      <th>w_earnings</th>\n",
       "      <td>3.148950e+09</td>\n",
       "      <td>5.836030e+09</td>\n",
       "      <td>4.021053e+10</td>\n",
       "      <td>8.974013e+10</td>\n",
       "      <td>9.947573e+10</td>\n",
       "      <td>1.156475e+11</td>\n",
       "      <td>1.188322e+11</td>\n",
       "      <td>1.241824e+11</td>\n",
       "      <td>1.356344e+11</td>\n",
       "      <td>1.191277e+11</td>\n",
       "      <td>6.501976e+10</td>\n",
       "      <td>2.211323e+10</td>\n",
       "      <td>1.068432e+10</td>\n",
       "    </tr>\n",
       "  </tbody>\n",
       "</table>\n",
       "</div>"
      ],
      "text/plain": [
       "AGEGP                 4             5             6             7   \\\n",
       "w_earnings  3.148950e+09  5.836030e+09  4.021053e+10  8.974013e+10   \n",
       "\n",
       "AGEGP                 8             9             10            11  \\\n",
       "w_earnings  9.947573e+10  1.156475e+11  1.188322e+11  1.241824e+11   \n",
       "\n",
       "AGEGP                 12            13            14            15  \\\n",
       "w_earnings  1.356344e+11  1.191277e+11  6.501976e+10  2.211323e+10   \n",
       "\n",
       "AGEGP                 16  \n",
       "w_earnings  1.068432e+10  "
      ]
     },
     "execution_count": 258,
     "metadata": {},
     "output_type": "execute_result"
    }
   ],
   "source": [
    "df.groupby('AGEGP').apply(weighted_earnings_sum).transpose()"
   ]
  },
  {
   "cell_type": "code",
   "execution_count": 261,
   "id": "7716e4b9",
   "metadata": {},
   "outputs": [
    {
     "data": {
      "text/html": [
       "<div>\n",
       "<style scoped>\n",
       "    .dataframe tbody tr th:only-of-type {\n",
       "        vertical-align: middle;\n",
       "    }\n",
       "\n",
       "    .dataframe tbody tr th {\n",
       "        vertical-align: top;\n",
       "    }\n",
       "\n",
       "    .dataframe thead th {\n",
       "        text-align: right;\n",
       "    }\n",
       "</style>\n",
       "<table border=\"1\" class=\"dataframe\">\n",
       "  <thead>\n",
       "    <tr style=\"text-align: right;\">\n",
       "      <th></th>\n",
       "      <th>w_earnings</th>\n",
       "    </tr>\n",
       "    <tr>\n",
       "      <th>AGEGP</th>\n",
       "      <th></th>\n",
       "    </tr>\n",
       "  </thead>\n",
       "  <tbody>\n",
       "    <tr>\n",
       "      <th>7</th>\n",
       "      <td>8.974013e+10</td>\n",
       "    </tr>\n",
       "    <tr>\n",
       "      <th>8</th>\n",
       "      <td>9.947573e+10</td>\n",
       "    </tr>\n",
       "    <tr>\n",
       "      <th>9</th>\n",
       "      <td>1.156475e+11</td>\n",
       "    </tr>\n",
       "    <tr>\n",
       "      <th>10</th>\n",
       "      <td>1.188322e+11</td>\n",
       "    </tr>\n",
       "    <tr>\n",
       "      <th>11</th>\n",
       "      <td>1.241824e+11</td>\n",
       "    </tr>\n",
       "    <tr>\n",
       "      <th>12</th>\n",
       "      <td>1.356344e+11</td>\n",
       "    </tr>\n",
       "    <tr>\n",
       "      <th>13</th>\n",
       "      <td>1.191277e+11</td>\n",
       "    </tr>\n",
       "    <tr>\n",
       "      <th>14</th>\n",
       "      <td>6.501976e+10</td>\n",
       "    </tr>\n",
       "    <tr>\n",
       "      <th>15</th>\n",
       "      <td>2.211323e+10</td>\n",
       "    </tr>\n",
       "    <tr>\n",
       "      <th>16</th>\n",
       "      <td>1.068432e+10</td>\n",
       "    </tr>\n",
       "  </tbody>\n",
       "</table>\n",
       "</div>"
      ],
      "text/plain": [
       "         w_earnings\n",
       "AGEGP              \n",
       "7      8.974013e+10\n",
       "8      9.947573e+10\n",
       "9      1.156475e+11\n",
       "10     1.188322e+11\n",
       "11     1.241824e+11\n",
       "12     1.356344e+11\n",
       "13     1.191277e+11\n",
       "14     6.501976e+10\n",
       "15     2.211323e+10\n",
       "16     1.068432e+10"
      ]
     },
     "execution_count": 261,
     "metadata": {},
     "output_type": "execute_result"
    }
   ],
   "source": [
    "# Begin from group 7 (25-29) and end at group 15 & 16 (65+)\n",
    "age_earnings_df = df.groupby('AGEGP').apply(weighted_earnings_sum)\n",
    "age_earnings_df = age_earnings_df.drop([4,5,6])\n",
    "age_earnings_df"
   ]
  },
  {
   "cell_type": "code",
   "execution_count": 266,
   "id": "ce78be47",
   "metadata": {},
   "outputs": [
    {
     "data": {
      "text/plain": [
       "10684323000.030571"
      ]
     },
     "execution_count": 266,
     "metadata": {},
     "output_type": "execute_result"
    }
   ],
   "source": [
    "age_earnings_df.iloc[9]['w_earnings']"
   ]
  },
  {
   "cell_type": "code",
   "execution_count": 267,
   "id": "970c3c6a",
   "metadata": {},
   "outputs": [],
   "source": [
    "age_earnings_df.loc[[15],'w_earnings'] = age_earnings_df.iloc[9]['w_earnings'] + age_earnings_df.iloc[8]['w_earnings']"
   ]
  },
  {
   "cell_type": "code",
   "execution_count": 271,
   "id": "05ec06a4",
   "metadata": {},
   "outputs": [],
   "source": [
    "age_earnings_df = age_earnings_df.drop([16])"
   ]
  },
  {
   "cell_type": "code",
   "execution_count": 277,
   "id": "e80e6396",
   "metadata": {},
   "outputs": [
    {
     "data": {
      "text/html": [
       "<div>\n",
       "<style scoped>\n",
       "    .dataframe tbody tr th:only-of-type {\n",
       "        vertical-align: middle;\n",
       "    }\n",
       "\n",
       "    .dataframe tbody tr th {\n",
       "        vertical-align: top;\n",
       "    }\n",
       "\n",
       "    .dataframe thead th {\n",
       "        text-align: right;\n",
       "    }\n",
       "</style>\n",
       "<table border=\"1\" class=\"dataframe\">\n",
       "  <thead>\n",
       "    <tr style=\"text-align: right;\">\n",
       "      <th></th>\n",
       "      <th>w_earnings</th>\n",
       "    </tr>\n",
       "    <tr>\n",
       "      <th>AGEGP</th>\n",
       "      <th></th>\n",
       "    </tr>\n",
       "  </thead>\n",
       "  <tbody>\n",
       "    <tr>\n",
       "      <th>7</th>\n",
       "      <td>8.974013e+10</td>\n",
       "    </tr>\n",
       "    <tr>\n",
       "      <th>8</th>\n",
       "      <td>9.947573e+10</td>\n",
       "    </tr>\n",
       "    <tr>\n",
       "      <th>9</th>\n",
       "      <td>1.156475e+11</td>\n",
       "    </tr>\n",
       "    <tr>\n",
       "      <th>10</th>\n",
       "      <td>1.188322e+11</td>\n",
       "    </tr>\n",
       "    <tr>\n",
       "      <th>11</th>\n",
       "      <td>1.241824e+11</td>\n",
       "    </tr>\n",
       "    <tr>\n",
       "      <th>12</th>\n",
       "      <td>1.356344e+11</td>\n",
       "    </tr>\n",
       "    <tr>\n",
       "      <th>13</th>\n",
       "      <td>1.191277e+11</td>\n",
       "    </tr>\n",
       "    <tr>\n",
       "      <th>14</th>\n",
       "      <td>6.501976e+10</td>\n",
       "    </tr>\n",
       "    <tr>\n",
       "      <th>15</th>\n",
       "      <td>3.279756e+10</td>\n",
       "    </tr>\n",
       "  </tbody>\n",
       "</table>\n",
       "</div>"
      ],
      "text/plain": [
       "         w_earnings\n",
       "AGEGP              \n",
       "7      8.974013e+10\n",
       "8      9.947573e+10\n",
       "9      1.156475e+11\n",
       "10     1.188322e+11\n",
       "11     1.241824e+11\n",
       "12     1.356344e+11\n",
       "13     1.191277e+11\n",
       "14     6.501976e+10\n",
       "15     3.279756e+10"
      ]
     },
     "execution_count": 277,
     "metadata": {},
     "output_type": "execute_result"
    }
   ],
   "source": [
    "age_earnings_df"
   ]
  },
  {
   "cell_type": "code",
   "execution_count": 287,
   "id": "ec7fb01c",
   "metadata": {},
   "outputs": [
    {
     "data": {
      "image/png": "[encoded data removed]",
      "text/plain": [
       "<Figure size 864x432 with 1 Axes>"
      ]
     },
     "metadata": {},
     "output_type": "display_data"
    }
   ],
   "source": [
    "ax = sns.lineplot(x = \"AGEGP\", y = \"w_earnings\", data = age_earnings_df)\n",
    "ax.set(xlabel='Age Group', ylabel='Total Earnings', title='The Role of Age in Earnings')\n",
    "ax.set_xticks(range(7,16)) # <--- set the ticks first\n",
    "ax.set_xticklabels(['25-29', '30-34', '35-39', '40-44', '45-49', '50-54', '55-59', '60-64', '65+'])\n",
    "fig = ax.get_figure()\n",
    "fig.savefig(\"age_earnings.png\")"
   ]
  },
  {
   "cell_type": "code",
   "execution_count": 288,
   "id": "ece150f3",
   "metadata": {},
   "outputs": [],
   "source": [
    "# Inequality across cohorts (Gini)"
   ]
  },
  {
   "cell_type": "code",
   "execution_count": 295,
   "id": "eb4443f2",
   "metadata": {
    "scrolled": true
   },
   "outputs": [
    {
     "data": {
      "text/plain": [
       "AGEGP\n",
       "4     0.634067\n",
       "5     0.582741\n",
       "6     0.512548\n",
       "7     0.476317\n",
       "8     0.480404\n",
       "9     0.496312\n",
       "10    0.512358\n",
       "11    0.519398\n",
       "12    0.519467\n",
       "13    0.588374\n",
       "14    0.714132\n",
       "15    0.873273\n",
       "16    1.017859\n",
       "dtype: float64"
      ]
     },
     "execution_count": 295,
     "metadata": {},
     "output_type": "execute_result"
    }
   ],
   "source": [
    "age_gini_df = df.groupby('AGEGP').apply(lambda x : gini(x['EARNINGS'], x['FWEIGHT']))"
   ]
  },
  {
   "cell_type": "code",
   "execution_count": 296,
   "id": "2166b692",
   "metadata": {},
   "outputs": [
    {
     "data": {
      "text/plain": [
       "AGEGP\n",
       "7     0.476317\n",
       "8     0.480404\n",
       "9     0.496312\n",
       "10    0.512358\n",
       "11    0.519398\n",
       "12    0.519467\n",
       "13    0.588374\n",
       "14    0.714132\n",
       "15    0.873273\n",
       "16    1.017859\n",
       "dtype: float64"
      ]
     },
     "execution_count": 296,
     "metadata": {},
     "output_type": "execute_result"
    }
   ],
   "source": [
    "age_gini_df = age_gini_df.drop([4,5,6])\n",
    "age_gini_df"
   ]
  },
  {
   "cell_type": "code",
   "execution_count": 299,
   "id": "0162283e",
   "metadata": {},
   "outputs": [
    {
     "data": {
      "image/png": "[encoded data removed]",
      "text/plain": [
       "<Figure size 864x432 with 1 Axes>"
      ]
     },
     "metadata": {},
     "output_type": "display_data"
    }
   ],
   "source": [
    "ax = sns.lineplot(data = age_gini_df)\n",
    "ax.set(xlabel='Age Group', ylabel='Gini', title='Inequality across Cohorts (Earnings)')\n",
    "ax.set_ylim([0,1.2])\n",
    "ax.set_xticks(range(7,17)) # <--- set the ticks first\n",
    "ax.set_xticklabels(['25-29', '30-34', '35-39', '40-44', '45-49', '50-54', '55-59', '60-64', '65-69', '70+'])\n",
    "fig = ax.get_figure()\n",
    "fig.savefig(\"age_gini.png\")"
   ]
  },
  {
   "cell_type": "code",
   "execution_count": 300,
   "id": "b508794f",
   "metadata": {},
   "outputs": [],
   "source": [
    "# Compute the average income, earnings, and age for each earning quantile"
   ]
  },
  {
   "cell_type": "code",
   "execution_count": 308,
   "id": "9670bfd8",
   "metadata": {},
   "outputs": [],
   "source": [
    "bin_quantiles = [0,.01,.4,.6,.8,.9,.95,.99,1] # We skip the bottom quintiles because they are all 0\n",
    "df['EARNINGS_BINNED'] = pd.cut(df['EARNINGS'], w_earnings.quantile(bin_labels).unique(), labels=bin_labels[1:])"
   ]
  },
  {
   "cell_type": "code",
   "execution_count": 332,
   "id": "96f8b8e1",
   "metadata": {},
   "outputs": [],
   "source": [
    "def weighted_average_stats(group):\n",
    "    w_group_income = DescrStatsW(group['MTINC'], weights=group['FWEIGHT'])\n",
    "    w_group_earnings = DescrStatsW(group['EARNINGS'], weights=group['FWEIGHT'])\n",
    "    w_group_age = DescrStatsW(group['AGEGP'], weights=group['FWEIGHT'])\n",
    "\n",
    "    d = {}\n",
    "    d['average income'] = w_group_income.mean\n",
    "    d['average earnings'] = w_group_earnings.mean\n",
    "    age_group = round(w_group_age.mean)\n",
    "    age_map = {\n",
    "        9: '35-39',\n",
    "        10: '40-44',\n",
    "        11: '45-49',\n",
    "        12: '50-54',\n",
    "        13: '55-59',\n",
    "    }\n",
    "    d['average age'] = age_map[age_group]\n",
    "    \n",
    "    return pd.Series(d, index=['average income', 'average earnings', 'average age'])"
   ]
  },
  {
   "cell_type": "code",
   "execution_count": 314,
   "id": "fbff4a9d",
   "metadata": {},
   "outputs": [
    {
     "data": {
      "text/html": [
       "<div>\n",
       "<style scoped>\n",
       "    .dataframe tbody tr th:only-of-type {\n",
       "        vertical-align: middle;\n",
       "    }\n",
       "\n",
       "    .dataframe tbody tr th {\n",
       "        vertical-align: top;\n",
       "    }\n",
       "\n",
       "    .dataframe thead th {\n",
       "        text-align: right;\n",
       "    }\n",
       "</style>\n",
       "<table border=\"1\" class=\"dataframe\">\n",
       "  <thead>\n",
       "    <tr style=\"text-align: right;\">\n",
       "      <th></th>\n",
       "      <th>average income</th>\n",
       "      <th>average earnings</th>\n",
       "      <th>average age</th>\n",
       "    </tr>\n",
       "    <tr>\n",
       "      <th>earnings quantile</th>\n",
       "      <th></th>\n",
       "      <th></th>\n",
       "      <th></th>\n",
       "    </tr>\n",
       "  </thead>\n",
       "  <tbody>\n",
       "    <tr>\n",
       "      <th>0.01</th>\n",
       "      <td>12354.78</td>\n",
       "      <td>-114.54</td>\n",
       "      <td>55-59</td>\n",
       "    </tr>\n",
       "    <tr>\n",
       "      <th>0.4</th>\n",
       "      <td>15903.79</td>\n",
       "      <td>2421.55</td>\n",
       "      <td>40-44</td>\n",
       "    </tr>\n",
       "    <tr>\n",
       "      <th>0.6</th>\n",
       "      <td>20459.82</td>\n",
       "      <td>15899.37</td>\n",
       "      <td>35-39</td>\n",
       "    </tr>\n",
       "    <tr>\n",
       "      <th>0.8</th>\n",
       "      <td>45098.71</td>\n",
       "      <td>41878.91</td>\n",
       "      <td>40-44</td>\n",
       "    </tr>\n",
       "    <tr>\n",
       "      <th>0.9</th>\n",
       "      <td>74566.28</td>\n",
       "      <td>71151.90</td>\n",
       "      <td>40-44</td>\n",
       "    </tr>\n",
       "    <tr>\n",
       "      <th>0.95</th>\n",
       "      <td>100956.47</td>\n",
       "      <td>96956.36</td>\n",
       "      <td>45-49</td>\n",
       "    </tr>\n",
       "    <tr>\n",
       "      <th>0.99</th>\n",
       "      <td>146890.39</td>\n",
       "      <td>138430.45</td>\n",
       "      <td>45-49</td>\n",
       "    </tr>\n",
       "    <tr>\n",
       "      <th>1.0</th>\n",
       "      <td>329365.44</td>\n",
       "      <td>311999.61</td>\n",
       "      <td>45-49</td>\n",
       "    </tr>\n",
       "  </tbody>\n",
       "</table>\n",
       "</div>"
      ],
      "text/plain": [
       "                   average income  average earnings average age\n",
       "earnings quantile                                              \n",
       "0.01                     12354.78           -114.54       55-59\n",
       "0.4                      15903.79           2421.55       40-44\n",
       "0.6                      20459.82          15899.37       35-39\n",
       "0.8                      45098.71          41878.91       40-44\n",
       "0.9                      74566.28          71151.90       40-44\n",
       "0.95                    100956.47          96956.36       45-49\n",
       "0.99                    146890.39         138430.45       45-49\n",
       "1.0                     329365.44         311999.61       45-49"
      ]
     },
     "execution_count": 314,
     "metadata": {},
     "output_type": "execute_result"
    }
   ],
   "source": [
    "avg = df.groupby('EARNINGS_BINNED').apply(weighted_average_stats)\n",
    "avg.index.name = 'earnings quantile'\n",
    "avg.round(2)"
   ]
  },
  {
   "cell_type": "code",
   "execution_count": 315,
   "id": "605fb065",
   "metadata": {},
   "outputs": [],
   "source": [
    "# Now the same for income quantiles"
   ]
  },
  {
   "cell_type": "code",
   "execution_count": 325,
   "id": "c134d6fd",
   "metadata": {},
   "outputs": [],
   "source": [
    "mtinc_bin_quantiles = [0,.01,.2,.4,.6,.8,.9,.95,.99,1] \n",
    "df['MTINC_BINNED_QUANTILES'] = pd.cut(df['MTINC'], w_mtinc.quantile(mtinc_bin_quantiles).unique(), labels=mtinc_bin_quantiles[1:])\n"
   ]
  },
  {
   "cell_type": "code",
   "execution_count": 333,
   "id": "4e6796bc",
   "metadata": {},
   "outputs": [
    {
     "data": {
      "text/html": [
       "<div>\n",
       "<style scoped>\n",
       "    .dataframe tbody tr th:only-of-type {\n",
       "        vertical-align: middle;\n",
       "    }\n",
       "\n",
       "    .dataframe tbody tr th {\n",
       "        vertical-align: top;\n",
       "    }\n",
       "\n",
       "    .dataframe thead th {\n",
       "        text-align: right;\n",
       "    }\n",
       "</style>\n",
       "<table border=\"1\" class=\"dataframe\">\n",
       "  <thead>\n",
       "    <tr style=\"text-align: right;\">\n",
       "      <th></th>\n",
       "      <th>average income</th>\n",
       "      <th>average earnings</th>\n",
       "      <th>average age</th>\n",
       "    </tr>\n",
       "    <tr>\n",
       "      <th>income quantile</th>\n",
       "      <th></th>\n",
       "      <th></th>\n",
       "      <th></th>\n",
       "    </tr>\n",
       "  </thead>\n",
       "  <tbody>\n",
       "    <tr>\n",
       "      <th>0.01</th>\n",
       "      <td>-204.87</td>\n",
       "      <td>-147.66</td>\n",
       "      <td>45-49</td>\n",
       "    </tr>\n",
       "    <tr>\n",
       "      <th>0.2</th>\n",
       "      <td>1108.42</td>\n",
       "      <td>487.79</td>\n",
       "      <td>45-49</td>\n",
       "    </tr>\n",
       "    <tr>\n",
       "      <th>0.4</th>\n",
       "      <td>9457.15</td>\n",
       "      <td>6057.69</td>\n",
       "      <td>40-44</td>\n",
       "    </tr>\n",
       "    <tr>\n",
       "      <th>0.6</th>\n",
       "      <td>26750.34</td>\n",
       "      <td>19378.42</td>\n",
       "      <td>45-49</td>\n",
       "    </tr>\n",
       "    <tr>\n",
       "      <th>0.8</th>\n",
       "      <td>49820.85</td>\n",
       "      <td>40036.82</td>\n",
       "      <td>45-49</td>\n",
       "    </tr>\n",
       "    <tr>\n",
       "      <th>0.9</th>\n",
       "      <td>77829.84</td>\n",
       "      <td>67062.28</td>\n",
       "      <td>45-49</td>\n",
       "    </tr>\n",
       "    <tr>\n",
       "      <th>0.95</th>\n",
       "      <td>104287.68</td>\n",
       "      <td>91592.34</td>\n",
       "      <td>45-49</td>\n",
       "    </tr>\n",
       "    <tr>\n",
       "      <th>0.99</th>\n",
       "      <td>152426.19</td>\n",
       "      <td>125356.87</td>\n",
       "      <td>45-49</td>\n",
       "    </tr>\n",
       "    <tr>\n",
       "      <th>1.0</th>\n",
       "      <td>349502.78</td>\n",
       "      <td>271967.16</td>\n",
       "      <td>50-54</td>\n",
       "    </tr>\n",
       "  </tbody>\n",
       "</table>\n",
       "</div>"
      ],
      "text/plain": [
       "                 average income  average earnings average age\n",
       "income quantile                                              \n",
       "0.01                    -204.87           -147.66       45-49\n",
       "0.2                     1108.42            487.79       45-49\n",
       "0.4                     9457.15           6057.69       40-44\n",
       "0.6                    26750.34          19378.42       45-49\n",
       "0.8                    49820.85          40036.82       45-49\n",
       "0.9                    77829.84          67062.28       45-49\n",
       "0.95                  104287.68          91592.34       45-49\n",
       "0.99                  152426.19         125356.87       45-49\n",
       "1.0                   349502.78         271967.16       50-54"
      ]
     },
     "execution_count": 333,
     "metadata": {},
     "output_type": "execute_result"
    }
   ],
   "source": [
    "avg = df.groupby('MTINC_BINNED_QUANTILES').apply(weighted_average_stats)\n",
    "avg.index.name = 'income quantile'\n",
    "avg.round(2)"
   ]
  },
  {
   "cell_type": "code",
   "execution_count": null,
   "id": "c4641218",
   "metadata": {},
   "outputs": [],
   "source": []
  }
 ],
 "metadata": {
  "kernelspec": {
   "display_name": "Python 3 (ipykernel)",
   "language": "python",
   "name": "python3"
  },
  "language_info": {
   "codemirror_mode": {
    "name": "ipython",
    "version": 3
   },
   "file_extension": ".py",
   "mimetype": "text/x-python",
   "name": "python",
   "nbconvert_exporter": "python",
   "pygments_lexer": "ipython3",
   "version": "3.9.7"
  }
 },
 "nbformat": 4,
 "nbformat_minor": 5
}
