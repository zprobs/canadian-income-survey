{
 "cells": [
  {
   "cell_type": "code",
   "execution_count": 85,
   "id": "b738d2dd",
   "metadata": {},
   "outputs": [],
   "source": [
    "import pandas as pd, numpy as np, matplotlib, matplotlib.pyplot as plt"
   ]
  },
  {
   "cell_type": "code",
   "execution_count": 3,
   "id": "c23470a9",
   "metadata": {},
   "outputs": [],
   "source": [
    "df = pd.read_csv('CIS-72M0003-E-2017_F1.csv')"
   ]
  },
  {
   "cell_type": "code",
   "execution_count": 4,
   "id": "fea64862",
   "metadata": {
    "scrolled": true
   },
   "outputs": [
    {
     "data": {
      "text/html": [
       "<div>\n",
       "<style scoped>\n",
       "    .dataframe tbody tr th:only-of-type {\n",
       "        vertical-align: middle;\n",
       "    }\n",
       "\n",
       "    .dataframe tbody tr th {\n",
       "        vertical-align: top;\n",
       "    }\n",
       "\n",
       "    .dataframe thead th {\n",
       "        text-align: right;\n",
       "    }\n",
       "</style>\n",
       "<table border=\"1\" class=\"dataframe\">\n",
       "  <thead>\n",
       "    <tr style=\"text-align: right;\">\n",
       "      <th></th>\n",
       "      <th>YEAR</th>\n",
       "      <th>PUMFID</th>\n",
       "      <th>PERSONID</th>\n",
       "      <th>FWEIGHT</th>\n",
       "      <th>PROV</th>\n",
       "      <th>USZGAP</th>\n",
       "      <th>MBMREGP</th>\n",
       "      <th>AGEGP</th>\n",
       "      <th>SEX</th>\n",
       "      <th>MARST</th>\n",
       "      <th>...</th>\n",
       "      <th>DWLTYP</th>\n",
       "      <th>DWTENR</th>\n",
       "      <th>REPA</th>\n",
       "      <th>SUIT</th>\n",
       "      <th>MORTG</th>\n",
       "      <th>MORTGM</th>\n",
       "      <th>CONDMP</th>\n",
       "      <th>RENTM</th>\n",
       "      <th>CHNEED</th>\n",
       "      <th>VERDATE</th>\n",
       "    </tr>\n",
       "  </thead>\n",
       "  <tbody>\n",
       "    <tr>\n",
       "      <th>0</th>\n",
       "      <td>2017</td>\n",
       "      <td>2129</td>\n",
       "      <td>212901</td>\n",
       "      <td>752.8642</td>\n",
       "      <td>24</td>\n",
       "      <td>8</td>\n",
       "      <td>18</td>\n",
       "      <td>4</td>\n",
       "      <td>2</td>\n",
       "      <td>6</td>\n",
       "      <td>...</td>\n",
       "      <td>1</td>\n",
       "      <td>1</td>\n",
       "      <td>3</td>\n",
       "      <td>1</td>\n",
       "      <td>2</td>\n",
       "      <td>99999996</td>\n",
       "      <td>99999996</td>\n",
       "      <td>99999996</td>\n",
       "      <td>2</td>\n",
       "      <td>02JUL2019</td>\n",
       "    </tr>\n",
       "    <tr>\n",
       "      <th>1</th>\n",
       "      <td>2017</td>\n",
       "      <td>2129</td>\n",
       "      <td>212902</td>\n",
       "      <td>752.8642</td>\n",
       "      <td>24</td>\n",
       "      <td>8</td>\n",
       "      <td>18</td>\n",
       "      <td>4</td>\n",
       "      <td>1</td>\n",
       "      <td>6</td>\n",
       "      <td>...</td>\n",
       "      <td>1</td>\n",
       "      <td>1</td>\n",
       "      <td>3</td>\n",
       "      <td>1</td>\n",
       "      <td>2</td>\n",
       "      <td>99999996</td>\n",
       "      <td>99999996</td>\n",
       "      <td>99999996</td>\n",
       "      <td>2</td>\n",
       "      <td>02JUL2019</td>\n",
       "    </tr>\n",
       "    <tr>\n",
       "      <th>2</th>\n",
       "      <td>2017</td>\n",
       "      <td>2129</td>\n",
       "      <td>212903</td>\n",
       "      <td>752.8642</td>\n",
       "      <td>24</td>\n",
       "      <td>8</td>\n",
       "      <td>18</td>\n",
       "      <td>10</td>\n",
       "      <td>2</td>\n",
       "      <td>2</td>\n",
       "      <td>...</td>\n",
       "      <td>1</td>\n",
       "      <td>1</td>\n",
       "      <td>3</td>\n",
       "      <td>1</td>\n",
       "      <td>2</td>\n",
       "      <td>99999996</td>\n",
       "      <td>99999996</td>\n",
       "      <td>99999996</td>\n",
       "      <td>2</td>\n",
       "      <td>02JUL2019</td>\n",
       "    </tr>\n",
       "    <tr>\n",
       "      <th>3</th>\n",
       "      <td>2017</td>\n",
       "      <td>2129</td>\n",
       "      <td>212904</td>\n",
       "      <td>752.8642</td>\n",
       "      <td>24</td>\n",
       "      <td>8</td>\n",
       "      <td>18</td>\n",
       "      <td>10</td>\n",
       "      <td>1</td>\n",
       "      <td>2</td>\n",
       "      <td>...</td>\n",
       "      <td>1</td>\n",
       "      <td>1</td>\n",
       "      <td>3</td>\n",
       "      <td>1</td>\n",
       "      <td>2</td>\n",
       "      <td>99999996</td>\n",
       "      <td>99999996</td>\n",
       "      <td>99999996</td>\n",
       "      <td>2</td>\n",
       "      <td>02JUL2019</td>\n",
       "    </tr>\n",
       "    <tr>\n",
       "      <th>4</th>\n",
       "      <td>2017</td>\n",
       "      <td>2130</td>\n",
       "      <td>213001</td>\n",
       "      <td>138.0238</td>\n",
       "      <td>12</td>\n",
       "      <td>5</td>\n",
       "      <td>7</td>\n",
       "      <td>16</td>\n",
       "      <td>1</td>\n",
       "      <td>1</td>\n",
       "      <td>...</td>\n",
       "      <td>1</td>\n",
       "      <td>1</td>\n",
       "      <td>2</td>\n",
       "      <td>1</td>\n",
       "      <td>2</td>\n",
       "      <td>99999996</td>\n",
       "      <td>99999996</td>\n",
       "      <td>99999996</td>\n",
       "      <td>6</td>\n",
       "      <td>02JUL2019</td>\n",
       "    </tr>\n",
       "  </tbody>\n",
       "</table>\n",
       "<p>5 rows × 194 columns</p>\n",
       "</div>"
      ],
      "text/plain": [
       "   YEAR  PUMFID  PERSONID   FWEIGHT  PROV  USZGAP  MBMREGP  AGEGP  SEX  MARST  \\\n",
       "0  2017    2129    212901  752.8642    24       8       18      4    2      6   \n",
       "1  2017    2129    212902  752.8642    24       8       18      4    1      6   \n",
       "2  2017    2129    212903  752.8642    24       8       18     10    2      2   \n",
       "3  2017    2129    212904  752.8642    24       8       18     10    1      2   \n",
       "4  2017    2130    213001  138.0238    12       5        7     16    1      1   \n",
       "\n",
       "   ...  DWLTYP  DWTENR  REPA  SUIT  MORTG    MORTGM    CONDMP     RENTM  \\\n",
       "0  ...       1       1     3     1      2  99999996  99999996  99999996   \n",
       "1  ...       1       1     3     1      2  99999996  99999996  99999996   \n",
       "2  ...       1       1     3     1      2  99999996  99999996  99999996   \n",
       "3  ...       1       1     3     1      2  99999996  99999996  99999996   \n",
       "4  ...       1       1     2     1      2  99999996  99999996  99999996   \n",
       "\n",
       "   CHNEED    VERDATE  \n",
       "0       2  02JUL2019  \n",
       "1       2  02JUL2019  \n",
       "2       2  02JUL2019  \n",
       "3       2  02JUL2019  \n",
       "4       6  02JUL2019  \n",
       "\n",
       "[5 rows x 194 columns]"
      ]
     },
     "execution_count": 4,
     "metadata": {},
     "output_type": "execute_result"
    }
   ],
   "source": [
    "df.head()"
   ]
  },
  {
   "cell_type": "code",
   "execution_count": null,
   "id": "f335de70",
   "metadata": {},
   "outputs": [],
   "source": [
    "# Remove invalid rows"
   ]
  },
  {
   "cell_type": "code",
   "execution_count": 11,
   "id": "25a4f66b",
   "metadata": {},
   "outputs": [],
   "source": [
    "df = df[df['MTINC'] < 99999996]"
   ]
  },
  {
   "cell_type": "code",
   "execution_count": 12,
   "id": "7c0529f3",
   "metadata": {},
   "outputs": [],
   "source": [
    "df = df[df['WGSAL'] < 99999996]"
   ]
  },
  {
   "cell_type": "code",
   "execution_count": 13,
   "id": "4ab36962",
   "metadata": {},
   "outputs": [],
   "source": [
    "df = df[df['SEMP'] < 99999996]"
   ]
  },
  {
   "cell_type": "code",
   "execution_count": 77,
   "id": "1628735c",
   "metadata": {},
   "outputs": [
    {
     "data": {
      "text/html": [
       "<div>\n",
       "<style scoped>\n",
       "    .dataframe tbody tr th:only-of-type {\n",
       "        vertical-align: middle;\n",
       "    }\n",
       "\n",
       "    .dataframe tbody tr th {\n",
       "        vertical-align: top;\n",
       "    }\n",
       "\n",
       "    .dataframe thead th {\n",
       "        text-align: right;\n",
       "    }\n",
       "</style>\n",
       "<table border=\"1\" class=\"dataframe\">\n",
       "  <thead>\n",
       "    <tr style=\"text-align: right;\">\n",
       "      <th></th>\n",
       "      <th>EARNINGS</th>\n",
       "      <th>MTINC</th>\n",
       "      <th>WGSAL</th>\n",
       "    </tr>\n",
       "  </thead>\n",
       "  <tbody>\n",
       "    <tr>\n",
       "      <th>count</th>\n",
       "      <td>75372.00</td>\n",
       "      <td>75372.00</td>\n",
       "      <td>75372.00</td>\n",
       "    </tr>\n",
       "    <tr>\n",
       "      <th>mean</th>\n",
       "      <td>32562.98</td>\n",
       "      <td>40720.76</td>\n",
       "      <td>31230.96</td>\n",
       "    </tr>\n",
       "    <tr>\n",
       "      <th>std</th>\n",
       "      <td>46141.32</td>\n",
       "      <td>49814.94</td>\n",
       "      <td>45891.87</td>\n",
       "    </tr>\n",
       "    <tr>\n",
       "      <th>min</th>\n",
       "      <td>-49979.09</td>\n",
       "      <td>-62350.00</td>\n",
       "      <td>0.00</td>\n",
       "    </tr>\n",
       "    <tr>\n",
       "      <th>25%</th>\n",
       "      <td>0.00</td>\n",
       "      <td>6750.00</td>\n",
       "      <td>0.00</td>\n",
       "    </tr>\n",
       "    <tr>\n",
       "      <th>50%</th>\n",
       "      <td>16500.00</td>\n",
       "      <td>29000.00</td>\n",
       "      <td>13500.00</td>\n",
       "    </tr>\n",
       "    <tr>\n",
       "      <th>75%</th>\n",
       "      <td>50000.00</td>\n",
       "      <td>58075.00</td>\n",
       "      <td>50000.00</td>\n",
       "    </tr>\n",
       "    <tr>\n",
       "      <th>max</th>\n",
       "      <td>981797.16</td>\n",
       "      <td>1257400.00</td>\n",
       "      <td>975000.00</td>\n",
       "    </tr>\n",
       "  </tbody>\n",
       "</table>\n",
       "</div>"
      ],
      "text/plain": [
       "        EARNINGS       MTINC      WGSAL\n",
       "count   75372.00    75372.00   75372.00\n",
       "mean    32562.98    40720.76   31230.96\n",
       "std     46141.32    49814.94   45891.87\n",
       "min    -49979.09   -62350.00       0.00\n",
       "25%         0.00     6750.00       0.00\n",
       "50%     16500.00    29000.00   13500.00\n",
       "75%     50000.00    58075.00   50000.00\n",
       "max    981797.16  1257400.00  975000.00"
      ]
     },
     "execution_count": 77,
     "metadata": {},
     "output_type": "execute_result"
    }
   ],
   "source": [
    "df[['EARNINGS', 'MTINC', 'WGSAL']].describe().round(2)"
   ]
  },
  {
   "cell_type": "code",
   "execution_count": null,
   "id": "7de4c620",
   "metadata": {},
   "outputs": [],
   "source": [
    "# Compute the fraction of business income that should be considered labour income"
   ]
  },
  {
   "cell_type": "code",
   "execution_count": 15,
   "id": "be6778d0",
   "metadata": {},
   "outputs": [],
   "source": [
    "total_wages = df['WGSAL'].sum()"
   ]
  },
  {
   "cell_type": "code",
   "execution_count": 17,
   "id": "065f431d",
   "metadata": {},
   "outputs": [],
   "source": [
    "total_income = df['MTINC'].sum()"
   ]
  },
  {
   "cell_type": "code",
   "execution_count": 19,
   "id": "39d46ac2",
   "metadata": {},
   "outputs": [],
   "source": [
    "total_self_income = df['SEMP'].sum()"
   ]
  },
  {
   "cell_type": "code",
   "execution_count": 21,
   "id": "0386fc3b",
   "metadata": {},
   "outputs": [],
   "source": [
    "bi_fraction = total_wages / (total_income - total_self_income)"
   ]
  },
  {
   "cell_type": "code",
   "execution_count": 22,
   "id": "e30ff800",
   "metadata": {},
   "outputs": [
    {
     "data": {
      "text/plain": [
       "0.7996654533849927"
      ]
     },
     "execution_count": 22,
     "metadata": {},
     "output_type": "execute_result"
    }
   ],
   "source": [
    "bi_fraction"
   ]
  },
  {
   "cell_type": "code",
   "execution_count": null,
   "id": "0173c7b8",
   "metadata": {},
   "outputs": [],
   "source": [
    "# Create an earnings variable"
   ]
  },
  {
   "cell_type": "code",
   "execution_count": 23,
   "id": "f5cdb2dd",
   "metadata": {},
   "outputs": [],
   "source": [
    "df['EARNINGS'] = df['WGSAL'] + ( bi_fraction * df['SEMP'] )"
   ]
  },
  {
   "cell_type": "code",
   "execution_count": 25,
   "id": "2720c4b6",
   "metadata": {},
   "outputs": [
    {
     "data": {
      "text/plain": [
       "count     75372.000000\n",
       "mean      32562.982645\n",
       "std       46141.323596\n",
       "min      -49979.090837\n",
       "25%           0.000000\n",
       "50%       16500.000000\n",
       "75%       50000.000000\n",
       "max      981797.156354\n",
       "Name: EARNINGS, dtype: float64"
      ]
     },
     "execution_count": 25,
     "metadata": {},
     "output_type": "execute_result"
    }
   ],
   "source": [
    "df['EARNINGS'].describe()"
   ]
  },
  {
   "cell_type": "code",
   "execution_count": 59,
   "id": "821e6795",
   "metadata": {},
   "outputs": [],
   "source": [
    "# Create subset for Quebec (PROV = 24)"
   ]
  },
  {
   "cell_type": "code",
   "execution_count": 60,
   "id": "94bdd746",
   "metadata": {},
   "outputs": [],
   "source": [
    "quebec_df = df[df['PROV'] == 24]"
   ]
  },
  {
   "cell_type": "code",
   "execution_count": 62,
   "id": "b9f20816",
   "metadata": {},
   "outputs": [
    {
     "data": {
      "text/plain": [
       "13620"
      ]
     },
     "execution_count": 62,
     "metadata": {},
     "output_type": "execute_result"
    }
   ],
   "source": [
    "len(quebec_df)"
   ]
  },
  {
   "cell_type": "code",
   "execution_count": 76,
   "id": "c7e82385",
   "metadata": {},
   "outputs": [
    {
     "data": {
      "text/html": [
       "<div>\n",
       "<style scoped>\n",
       "    .dataframe tbody tr th:only-of-type {\n",
       "        vertical-align: middle;\n",
       "    }\n",
       "\n",
       "    .dataframe tbody tr th {\n",
       "        vertical-align: top;\n",
       "    }\n",
       "\n",
       "    .dataframe thead th {\n",
       "        text-align: right;\n",
       "    }\n",
       "</style>\n",
       "<table border=\"1\" class=\"dataframe\">\n",
       "  <thead>\n",
       "    <tr style=\"text-align: right;\">\n",
       "      <th></th>\n",
       "      <th>EARNINGS</th>\n",
       "      <th>MTINC</th>\n",
       "      <th>WGSAL</th>\n",
       "    </tr>\n",
       "  </thead>\n",
       "  <tbody>\n",
       "    <tr>\n",
       "      <th>count</th>\n",
       "      <td>13620.00</td>\n",
       "      <td>13620.00</td>\n",
       "      <td>13620.00</td>\n",
       "    </tr>\n",
       "    <tr>\n",
       "      <th>mean</th>\n",
       "      <td>28471.07</td>\n",
       "      <td>35823.52</td>\n",
       "      <td>27304.48</td>\n",
       "    </tr>\n",
       "    <tr>\n",
       "      <th>std</th>\n",
       "      <td>37033.89</td>\n",
       "      <td>39594.27</td>\n",
       "      <td>36416.28</td>\n",
       "    </tr>\n",
       "    <tr>\n",
       "      <th>min</th>\n",
       "      <td>-24764.63</td>\n",
       "      <td>-28000.00</td>\n",
       "      <td>0.00</td>\n",
       "    </tr>\n",
       "    <tr>\n",
       "      <th>25%</th>\n",
       "      <td>0.00</td>\n",
       "      <td>6250.00</td>\n",
       "      <td>0.00</td>\n",
       "    </tr>\n",
       "    <tr>\n",
       "      <th>50%</th>\n",
       "      <td>15000.00</td>\n",
       "      <td>27000.00</td>\n",
       "      <td>12500.00</td>\n",
       "    </tr>\n",
       "    <tr>\n",
       "      <th>75%</th>\n",
       "      <td>46000.00</td>\n",
       "      <td>52500.00</td>\n",
       "      <td>45000.00</td>\n",
       "    </tr>\n",
       "    <tr>\n",
       "      <th>max</th>\n",
       "      <td>470000.00</td>\n",
       "      <td>625000.00</td>\n",
       "      <td>470000.00</td>\n",
       "    </tr>\n",
       "  </tbody>\n",
       "</table>\n",
       "</div>"
      ],
      "text/plain": [
       "        EARNINGS      MTINC      WGSAL\n",
       "count   13620.00   13620.00   13620.00\n",
       "mean    28471.07   35823.52   27304.48\n",
       "std     37033.89   39594.27   36416.28\n",
       "min    -24764.63  -28000.00       0.00\n",
       "25%         0.00    6250.00       0.00\n",
       "50%     15000.00   27000.00   12500.00\n",
       "75%     46000.00   52500.00   45000.00\n",
       "max    470000.00  625000.00  470000.00"
      ]
     },
     "execution_count": 76,
     "metadata": {},
     "output_type": "execute_result"
    }
   ],
   "source": [
    "quebec_df[['EARNINGS', 'MTINC', 'WGSAL']].describe().round(2)"
   ]
  },
  {
   "cell_type": "code",
   "execution_count": null,
   "id": "4ecace74",
   "metadata": {},
   "outputs": [],
   "source": [
    "# Create subset for ages 25-55 (age groups 7-12)"
   ]
  },
  {
   "cell_type": "code",
   "execution_count": 67,
   "id": "010662fb",
   "metadata": {},
   "outputs": [],
   "source": [
    "mid_df = df.loc[(pd.to_numeric(df['AGEGP']) > 6) & (pd.to_numeric(df['AGEGP']) < 13)]"
   ]
  },
  {
   "cell_type": "code",
   "execution_count": 75,
   "id": "77460f10",
   "metadata": {},
   "outputs": [
    {
     "data": {
      "text/html": [
       "<div>\n",
       "<style scoped>\n",
       "    .dataframe tbody tr th:only-of-type {\n",
       "        vertical-align: middle;\n",
       "    }\n",
       "\n",
       "    .dataframe tbody tr th {\n",
       "        vertical-align: top;\n",
       "    }\n",
       "\n",
       "    .dataframe thead th {\n",
       "        text-align: right;\n",
       "    }\n",
       "</style>\n",
       "<table border=\"1\" class=\"dataframe\">\n",
       "  <thead>\n",
       "    <tr style=\"text-align: right;\">\n",
       "      <th></th>\n",
       "      <th>EARNINGS</th>\n",
       "      <th>MTINC</th>\n",
       "      <th>WGSAL</th>\n",
       "    </tr>\n",
       "  </thead>\n",
       "  <tbody>\n",
       "    <tr>\n",
       "      <th>count</th>\n",
       "      <td>34992.00</td>\n",
       "      <td>34992.00</td>\n",
       "      <td>34992.00</td>\n",
       "    </tr>\n",
       "    <tr>\n",
       "      <th>mean</th>\n",
       "      <td>48918.47</td>\n",
       "      <td>52460.53</td>\n",
       "      <td>47217.73</td>\n",
       "    </tr>\n",
       "    <tr>\n",
       "      <th>std</th>\n",
       "      <td>49202.20</td>\n",
       "      <td>52296.50</td>\n",
       "      <td>49472.60</td>\n",
       "    </tr>\n",
       "    <tr>\n",
       "      <th>min</th>\n",
       "      <td>-49979.09</td>\n",
       "      <td>-62350.00</td>\n",
       "      <td>0.00</td>\n",
       "    </tr>\n",
       "    <tr>\n",
       "      <th>25%</th>\n",
       "      <td>15000.00</td>\n",
       "      <td>18500.00</td>\n",
       "      <td>10500.00</td>\n",
       "    </tr>\n",
       "    <tr>\n",
       "      <th>50%</th>\n",
       "      <td>41000.00</td>\n",
       "      <td>43500.00</td>\n",
       "      <td>40000.00</td>\n",
       "    </tr>\n",
       "    <tr>\n",
       "      <th>75%</th>\n",
       "      <td>70000.00</td>\n",
       "      <td>73281.25</td>\n",
       "      <td>70000.00</td>\n",
       "    </tr>\n",
       "    <tr>\n",
       "      <th>max</th>\n",
       "      <td>975000.00</td>\n",
       "      <td>1257400.00</td>\n",
       "      <td>975000.00</td>\n",
       "    </tr>\n",
       "  </tbody>\n",
       "</table>\n",
       "</div>"
      ],
      "text/plain": [
       "        EARNINGS       MTINC      WGSAL\n",
       "count   34992.00    34992.00   34992.00\n",
       "mean    48918.47    52460.53   47217.73\n",
       "std     49202.20    52296.50   49472.60\n",
       "min    -49979.09   -62350.00       0.00\n",
       "25%     15000.00    18500.00   10500.00\n",
       "50%     41000.00    43500.00   40000.00\n",
       "75%     70000.00    73281.25   70000.00\n",
       "max    975000.00  1257400.00  975000.00"
      ]
     },
     "execution_count": 75,
     "metadata": {},
     "output_type": "execute_result"
    }
   ],
   "source": [
    "mid_df[['EARNINGS', 'MTINC', 'WGSAL']].describe().round(2)"
   ]
  },
  {
   "cell_type": "code",
   "execution_count": null,
   "id": "16de9dae",
   "metadata": {},
   "outputs": [],
   "source": [
    "# Show earnings and income distribution by quantiles"
   ]
  },
  {
   "cell_type": "code",
   "execution_count": 38,
   "id": "b697390a",
   "metadata": {},
   "outputs": [],
   "source": [
    "quantiles = [0, .01, .05, .1, .2, .4, .6, .8, .9, .95, .99, 1]"
   ]
  },
  {
   "cell_type": "code",
   "execution_count": 39,
   "id": "b912c592",
   "metadata": {},
   "outputs": [
    {
     "data": {
      "text/plain": [
       "0.00    -49979.090837\n",
       "0.01         0.000000\n",
       "0.05         0.000000\n",
       "0.10         0.000000\n",
       "0.20         0.000000\n",
       "0.40      6000.000000\n",
       "0.60     30000.000000\n",
       "0.80     60000.000000\n",
       "0.90     85896.069077\n",
       "0.95    110000.000000\n",
       "0.99    185000.000000\n",
       "1.00    981797.156354\n",
       "Name: EARNINGS, dtype: float64"
      ]
     },
     "execution_count": 39,
     "metadata": {},
     "output_type": "execute_result"
    }
   ],
   "source": [
    "df['EARNINGS'].quantile(quantiles)"
   ]
  },
  {
   "cell_type": "code",
   "execution_count": 55,
   "id": "8c2a6d53",
   "metadata": {},
   "outputs": [],
   "source": [
    "quant_df = pd.DataFrame(df['EARNINGS'].quantile(quantiles)).transpose()"
   ]
  },
  {
   "cell_type": "code",
   "execution_count": 58,
   "id": "360cb550",
   "metadata": {},
   "outputs": [
    {
     "data": {
      "text/html": [
       "<div>\n",
       "<style scoped>\n",
       "    .dataframe tbody tr th:only-of-type {\n",
       "        vertical-align: middle;\n",
       "    }\n",
       "\n",
       "    .dataframe tbody tr th {\n",
       "        vertical-align: top;\n",
       "    }\n",
       "\n",
       "    .dataframe thead th {\n",
       "        text-align: right;\n",
       "    }\n",
       "</style>\n",
       "<table border=\"1\" class=\"dataframe\">\n",
       "  <thead>\n",
       "    <tr style=\"text-align: right;\">\n",
       "      <th></th>\n",
       "      <th>0.00</th>\n",
       "      <th>0.01</th>\n",
       "      <th>0.05</th>\n",
       "      <th>0.10</th>\n",
       "      <th>0.20</th>\n",
       "      <th>0.40</th>\n",
       "      <th>0.60</th>\n",
       "      <th>0.80</th>\n",
       "      <th>0.90</th>\n",
       "      <th>0.95</th>\n",
       "      <th>0.99</th>\n",
       "      <th>1.00</th>\n",
       "    </tr>\n",
       "  </thead>\n",
       "  <tbody>\n",
       "    <tr>\n",
       "      <th>EARNINGS</th>\n",
       "      <td>-49979.09</td>\n",
       "      <td>0.0</td>\n",
       "      <td>0.0</td>\n",
       "      <td>0.0</td>\n",
       "      <td>0.0</td>\n",
       "      <td>6000.0</td>\n",
       "      <td>30000.0</td>\n",
       "      <td>60000.0</td>\n",
       "      <td>85896.07</td>\n",
       "      <td>110000.0</td>\n",
       "      <td>185000.0</td>\n",
       "      <td>981797.16</td>\n",
       "    </tr>\n",
       "    <tr>\n",
       "      <th>MTINC</th>\n",
       "      <td>-62350.00</td>\n",
       "      <td>0.0</td>\n",
       "      <td>0.0</td>\n",
       "      <td>0.0</td>\n",
       "      <td>3300.0</td>\n",
       "      <td>19000.0</td>\n",
       "      <td>39000.0</td>\n",
       "      <td>67500.0</td>\n",
       "      <td>92775.00</td>\n",
       "      <td>120000.0</td>\n",
       "      <td>211543.5</td>\n",
       "      <td>1257400.00</td>\n",
       "    </tr>\n",
       "  </tbody>\n",
       "</table>\n",
       "</div>"
      ],
      "text/plain": [
       "              0.00  0.01  0.05  0.10    0.20     0.40     0.60     0.80  \\\n",
       "EARNINGS -49979.09   0.0   0.0   0.0     0.0   6000.0  30000.0  60000.0   \n",
       "MTINC    -62350.00   0.0   0.0   0.0  3300.0  19000.0  39000.0  67500.0   \n",
       "\n",
       "              0.90      0.95      0.99        1.00  \n",
       "EARNINGS  85896.07  110000.0  185000.0   981797.16  \n",
       "MTINC     92775.00  120000.0  211543.5  1257400.00  "
      ]
     },
     "execution_count": 58,
     "metadata": {},
     "output_type": "execute_result"
    }
   ],
   "source": [
    "quant_df.append(df['MTINC'].quantile(quantiles)).round(2)"
   ]
  },
  {
   "cell_type": "code",
   "execution_count": 78,
   "id": "685b5f63",
   "metadata": {},
   "outputs": [],
   "source": [
    "qc_quant_df = pd.DataFrame(quebec_df['EARNINGS'].quantile(quantiles)).transpose()"
   ]
  },
  {
   "cell_type": "code",
   "execution_count": 79,
   "id": "becb1954",
   "metadata": {},
   "outputs": [
    {
     "data": {
      "text/html": [
       "<div>\n",
       "<style scoped>\n",
       "    .dataframe tbody tr th:only-of-type {\n",
       "        vertical-align: middle;\n",
       "    }\n",
       "\n",
       "    .dataframe tbody tr th {\n",
       "        vertical-align: top;\n",
       "    }\n",
       "\n",
       "    .dataframe thead th {\n",
       "        text-align: right;\n",
       "    }\n",
       "</style>\n",
       "<table border=\"1\" class=\"dataframe\">\n",
       "  <thead>\n",
       "    <tr style=\"text-align: right;\">\n",
       "      <th></th>\n",
       "      <th>0.00</th>\n",
       "      <th>0.01</th>\n",
       "      <th>0.05</th>\n",
       "      <th>0.10</th>\n",
       "      <th>0.20</th>\n",
       "      <th>0.40</th>\n",
       "      <th>0.60</th>\n",
       "      <th>0.80</th>\n",
       "      <th>0.90</th>\n",
       "      <th>0.95</th>\n",
       "      <th>0.99</th>\n",
       "      <th>1.00</th>\n",
       "    </tr>\n",
       "  </thead>\n",
       "  <tbody>\n",
       "    <tr>\n",
       "      <th>EARNINGS</th>\n",
       "      <td>-24764.63</td>\n",
       "      <td>0.0</td>\n",
       "      <td>0.0</td>\n",
       "      <td>0.0</td>\n",
       "      <td>0.0</td>\n",
       "      <td>4399.26</td>\n",
       "      <td>27000.0</td>\n",
       "      <td>55000.0</td>\n",
       "      <td>77500.0</td>\n",
       "      <td>95000.0</td>\n",
       "      <td>150000.0</td>\n",
       "      <td>470000.0</td>\n",
       "    </tr>\n",
       "    <tr>\n",
       "      <th>MTINC</th>\n",
       "      <td>-28000.00</td>\n",
       "      <td>0.0</td>\n",
       "      <td>0.0</td>\n",
       "      <td>0.0</td>\n",
       "      <td>2695.0</td>\n",
       "      <td>18400.00</td>\n",
       "      <td>36000.0</td>\n",
       "      <td>60000.0</td>\n",
       "      <td>81610.0</td>\n",
       "      <td>105000.0</td>\n",
       "      <td>171848.0</td>\n",
       "      <td>625000.0</td>\n",
       "    </tr>\n",
       "  </tbody>\n",
       "</table>\n",
       "</div>"
      ],
      "text/plain": [
       "              0.00  0.01  0.05  0.10    0.20      0.40     0.60     0.80  \\\n",
       "EARNINGS -24764.63   0.0   0.0   0.0     0.0   4399.26  27000.0  55000.0   \n",
       "MTINC    -28000.00   0.0   0.0   0.0  2695.0  18400.00  36000.0  60000.0   \n",
       "\n",
       "             0.90      0.95      0.99      1.00  \n",
       "EARNINGS  77500.0   95000.0  150000.0  470000.0  \n",
       "MTINC     81610.0  105000.0  171848.0  625000.0  "
      ]
     },
     "execution_count": 79,
     "metadata": {},
     "output_type": "execute_result"
    }
   ],
   "source": [
    "qc_quant_df.append(quebec_df['MTINC'].quantile(quantiles)).round(2)"
   ]
  },
  {
   "cell_type": "code",
   "execution_count": 80,
   "id": "721bcd72",
   "metadata": {},
   "outputs": [],
   "source": [
    "mid_quant_df = pd.DataFrame(mid_df['EARNINGS'].quantile(quantiles)).transpose()"
   ]
  },
  {
   "cell_type": "code",
   "execution_count": 81,
   "id": "25b77253",
   "metadata": {},
   "outputs": [
    {
     "data": {
      "text/html": [
       "<div>\n",
       "<style scoped>\n",
       "    .dataframe tbody tr th:only-of-type {\n",
       "        vertical-align: middle;\n",
       "    }\n",
       "\n",
       "    .dataframe tbody tr th {\n",
       "        vertical-align: top;\n",
       "    }\n",
       "\n",
       "    .dataframe thead th {\n",
       "        text-align: right;\n",
       "    }\n",
       "</style>\n",
       "<table border=\"1\" class=\"dataframe\">\n",
       "  <thead>\n",
       "    <tr style=\"text-align: right;\">\n",
       "      <th></th>\n",
       "      <th>0.00</th>\n",
       "      <th>0.01</th>\n",
       "      <th>0.05</th>\n",
       "      <th>0.10</th>\n",
       "      <th>0.20</th>\n",
       "      <th>0.40</th>\n",
       "      <th>0.60</th>\n",
       "      <th>0.80</th>\n",
       "      <th>0.90</th>\n",
       "      <th>0.95</th>\n",
       "      <th>0.99</th>\n",
       "      <th>1.00</th>\n",
       "    </tr>\n",
       "  </thead>\n",
       "  <tbody>\n",
       "    <tr>\n",
       "      <th>EARNINGS</th>\n",
       "      <td>-49979.09</td>\n",
       "      <td>0.0</td>\n",
       "      <td>0.0</td>\n",
       "      <td>0.0</td>\n",
       "      <td>8897.64</td>\n",
       "      <td>31000.0</td>\n",
       "      <td>50000.0</td>\n",
       "      <td>77500.0</td>\n",
       "      <td>100000.0</td>\n",
       "      <td>125000.00</td>\n",
       "      <td>210000.00</td>\n",
       "      <td>975000.0</td>\n",
       "    </tr>\n",
       "    <tr>\n",
       "      <th>MTINC</th>\n",
       "      <td>-62350.00</td>\n",
       "      <td>0.0</td>\n",
       "      <td>0.0</td>\n",
       "      <td>200.0</td>\n",
       "      <td>12500.00</td>\n",
       "      <td>34000.0</td>\n",
       "      <td>53800.0</td>\n",
       "      <td>82500.0</td>\n",
       "      <td>105000.0</td>\n",
       "      <td>134903.75</td>\n",
       "      <td>224773.75</td>\n",
       "      <td>1257400.0</td>\n",
       "    </tr>\n",
       "  </tbody>\n",
       "</table>\n",
       "</div>"
      ],
      "text/plain": [
       "              0.00  0.01  0.05   0.10      0.20     0.40     0.60     0.80  \\\n",
       "EARNINGS -49979.09   0.0   0.0    0.0   8897.64  31000.0  50000.0  77500.0   \n",
       "MTINC    -62350.00   0.0   0.0  200.0  12500.00  34000.0  53800.0  82500.0   \n",
       "\n",
       "              0.90       0.95       0.99       1.00  \n",
       "EARNINGS  100000.0  125000.00  210000.00   975000.0  \n",
       "MTINC     105000.0  134903.75  224773.75  1257400.0  "
      ]
     },
     "execution_count": 81,
     "metadata": {},
     "output_type": "execute_result"
    }
   ],
   "source": [
    "mid_quant_df.append(mid_df['MTINC'].quantile(quantiles)).round(2)"
   ]
  },
  {
   "cell_type": "code",
   "execution_count": 82,
   "id": "16822c13",
   "metadata": {},
   "outputs": [],
   "source": [
    "# Plot a histogram of income distribution"
   ]
  },
  {
   "cell_type": "code",
   "execution_count": 102,
   "id": "010ff111",
   "metadata": {},
   "outputs": [
    {
     "data": {
      "image/png": "[encoded data removed]",
      "text/plain": [
       "<Figure size 1008x504 with 1 Axes>"
      ]
     },
     "metadata": {
      "needs_background": "light"
     },
     "output_type": "display_data"
    }
   ],
   "source": [
    "plt.figure(figsize=(14,7))\n",
    "\n",
    "plt.hist(df[df['MTINC'] <= 185000]['MTINC'], density=True, bins=130, facecolor = '#2ab0ff', edgecolor='#169acf', linewidth=0.5)\n",
    "plt.title('Histogram of the 2017 Income Distribution in Canada') \n",
    "plt.xlabel('Income') \n",
    "plt.ylabel('%')\n",
    "plt.savefig('income_hist.png')\n",
    "plt.show()"
   ]
  },
  {
   "cell_type": "code",
   "execution_count": 103,
   "id": "558e5834",
   "metadata": {},
   "outputs": [],
   "source": [
    "# Calculate the coefficient of variation for income and earnings"
   ]
  },
  {
   "cell_type": "code",
   "execution_count": 104,
   "id": "110caed3",
   "metadata": {},
   "outputs": [],
   "source": [
    "cv_income_all = df['MTINC'].std() / df['MTINC'].mean()"
   ]
  },
  {
   "cell_type": "code",
   "execution_count": 105,
   "id": "33a7ac10",
   "metadata": {},
   "outputs": [
    {
     "data": {
      "text/plain": [
       "1.2233304311419275"
      ]
     },
     "execution_count": 105,
     "metadata": {},
     "output_type": "execute_result"
    }
   ],
   "source": [
    "cv_income_all"
   ]
  },
  {
   "cell_type": "code",
   "execution_count": 106,
   "id": "c346ed04",
   "metadata": {},
   "outputs": [
    {
     "name": "stdout",
     "output_type": "stream",
     "text": [
      "1.4169870155676314\n"
     ]
    }
   ],
   "source": [
    "cv_earnings_all = df['EARNINGS'].std() / df['EARNINGS'].mean()\n",
    "print(cv_earnings_all)"
   ]
  },
  {
   "cell_type": "code",
   "execution_count": 109,
   "id": "bae32401",
   "metadata": {},
   "outputs": [
    {
     "data": {
      "text/plain": [
       "count    75372.000000\n",
       "mean       394.938792\n",
       "std        451.472654\n",
       "min         10.086100\n",
       "25%        127.785825\n",
       "50%        211.529550\n",
       "75%        468.042900\n",
       "max       5855.831000\n",
       "Name: FWEIGHT, dtype: float64"
      ]
     },
     "execution_count": 109,
     "metadata": {},
     "output_type": "execute_result"
    }
   ],
   "source": [
    "df['FWEIGHT'].describe()"
   ]
  },
  {
   "cell_type": "code",
   "execution_count": null,
   "id": "b67bb7f4",
   "metadata": {},
   "outputs": [],
   "source": []
  }
 ],
 "metadata": {
  "kernelspec": {
   "display_name": "Python 3 (ipykernel)",
   "language": "python",
   "name": "python3"
  },
  "language_info": {
   "codemirror_mode": {
    "name": "ipython",
    "version": 3
   },
   "file_extension": ".py",
   "mimetype": "text/x-python",
   "name": "python",
   "nbconvert_exporter": "python",
   "pygments_lexer": "ipython3",
   "version": "3.9.7"
  }
 },
 "nbformat": 4,
 "nbformat_minor": 5
}
